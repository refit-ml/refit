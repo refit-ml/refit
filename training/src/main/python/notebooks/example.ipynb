{
 "cells": [
  {
   "cell_type": "code",
   "execution_count": 1,
   "metadata": {},
   "outputs": [],
   "source": [
    "#Example Notebook\n",
    "from datetime import datetime\n",
    "from api.refit import Refit"
   ]
  },
  {
   "cell_type": "code",
   "execution_count": 2,
   "outputs": [
    {
     "name": "stderr",
     "output_type": "stream",
     "text": [
      "/Users/matthewalvarez/Documents/projects/iot-prototype/training/src/main/python/util/Schema.py:23: YAMLLoadWarning: calling yaml.load() without Loader=... is deprecated, as the default Loader is unsafe. Please read https://msg.pyyaml.org/load for full details.\n",
      "  dict = yaml.load(schema_yaml)\n"
     ]
    }
   ],
   "source": [
    "project_guid = \"b6ee5bab-08dd-49b0-98b6-45cd0a28b12f\"\n",
    "refit = Refit(project_guid)\n",
    "\n",
    "start = datetime(2020, 6, 20)\n",
    "end = datetime(2020, 6, 30)\n",
    "sensors = ['5163']"
   ],
   "metadata": {
    "collapsed": false,
    "pycharm": {
     "name": "#%%\n"
    }
   }
  },
  {
   "cell_type": "code",
   "execution_count": 3,
   "metadata": {
    "pycharm": {
     "name": "#%%\n"
    }
   },
   "outputs": [
    {
     "data": {
      "text/plain": "                          project_guid_x sensor_id  partition_key  \\\n0   b6ee5bab-08dd-49b0-98b6-45cd0a28b12f      5163  2020-06-28 00   \n1   b6ee5bab-08dd-49b0-98b6-45cd0a28b12f      5163  2020-06-28 00   \n2   b6ee5bab-08dd-49b0-98b6-45cd0a28b12f      5163  2020-06-28 00   \n3   b6ee5bab-08dd-49b0-98b6-45cd0a28b12f      5163  2020-06-28 00   \n4   b6ee5bab-08dd-49b0-98b6-45cd0a28b12f      5163  2020-06-28 00   \n5   b6ee5bab-08dd-49b0-98b6-45cd0a28b12f      5163  2020-06-28 00   \n6   b6ee5bab-08dd-49b0-98b6-45cd0a28b12f      5163  2020-06-28 00   \n7   b6ee5bab-08dd-49b0-98b6-45cd0a28b12f      5163  2020-06-28 00   \n8   b6ee5bab-08dd-49b0-98b6-45cd0a28b12f      5163  2020-06-28 00   \n9   b6ee5bab-08dd-49b0-98b6-45cd0a28b12f      5163  2020-06-28 00   \n10  b6ee5bab-08dd-49b0-98b6-45cd0a28b12f      5163  2020-06-28 00   \n11  b6ee5bab-08dd-49b0-98b6-45cd0a28b12f      5163  2020-06-28 00   \n12  b6ee5bab-08dd-49b0-98b6-45cd0a28b12f      5163  2020-06-28 00   \n13  b6ee5bab-08dd-49b0-98b6-45cd0a28b12f      5163  2020-06-28 00   \n14  b6ee5bab-08dd-49b0-98b6-45cd0a28b12f      5163  2020-06-28 00   \n15  b6ee5bab-08dd-49b0-98b6-45cd0a28b12f      5163  2020-06-28 00   \n16  b6ee5bab-08dd-49b0-98b6-45cd0a28b12f      5163  2020-06-28 00   \n17  b6ee5bab-08dd-49b0-98b6-45cd0a28b12f      5163  2020-06-28 00   \n18  b6ee5bab-08dd-49b0-98b6-45cd0a28b12f      5163  2020-06-28 00   \n19  b6ee5bab-08dd-49b0-98b6-45cd0a28b12f      5163  2020-06-28 00   \n\n             timestamp wind pressure temperature  operable  \n0  2020-06-28 05:48:32   38     1107          60      True  \n1  2020-06-28 05:48:37   14     1152          43      True  \n2  2020-06-28 05:48:42   64     1028          68      True  \n3  2020-06-28 05:48:47    2     1137          41      True  \n4  2020-06-28 05:48:52   53     1014          41      True  \n5  2020-06-28 05:48:57   45     1192          50      True  \n6  2020-06-28 05:49:02   32      927          34      True  \n7  2020-06-28 05:49:07    0     1143          65      True  \n8  2020-06-28 05:49:12   60     1178          42      True  \n9  2020-06-28 05:49:17   39      904          59      True  \n10 2020-06-28 05:49:22   33      970          47      True  \n11 2020-06-28 05:49:27   57      918          62      True  \n12 2020-06-28 05:49:32   52     1002          53      True  \n13 2020-06-28 05:49:37   63     1107          51      True  \n14 2020-06-28 05:49:42   67     1102          47      True  \n15 2020-06-28 05:49:47   61      976          45      True  \n16 2020-06-28 05:49:52   45     1067          33      True  \n17 2020-06-28 05:49:57   58     1084          43      True  \n18 2020-06-28 05:50:02   14     1058          34     False  \n19 2020-06-28 05:50:07   13     1126          32     False  ",
      "text/html": "<div>\n<style scoped>\n    .dataframe tbody tr th:only-of-type {\n        vertical-align: middle;\n    }\n\n    .dataframe tbody tr th {\n        vertical-align: top;\n    }\n\n    .dataframe thead th {\n        text-align: right;\n    }\n</style>\n<table border=\"1\" class=\"dataframe\">\n  <thead>\n    <tr style=\"text-align: right;\">\n      <th></th>\n      <th>project_guid_x</th>\n      <th>sensor_id</th>\n      <th>partition_key</th>\n      <th>timestamp</th>\n      <th>wind</th>\n      <th>pressure</th>\n      <th>temperature</th>\n      <th>operable</th>\n    </tr>\n  </thead>\n  <tbody>\n    <tr>\n      <th>0</th>\n      <td>b6ee5bab-08dd-49b0-98b6-45cd0a28b12f</td>\n      <td>5163</td>\n      <td>2020-06-28 00</td>\n      <td>2020-06-28 05:48:32</td>\n      <td>38</td>\n      <td>1107</td>\n      <td>60</td>\n      <td>True</td>\n    </tr>\n    <tr>\n      <th>1</th>\n      <td>b6ee5bab-08dd-49b0-98b6-45cd0a28b12f</td>\n      <td>5163</td>\n      <td>2020-06-28 00</td>\n      <td>2020-06-28 05:48:37</td>\n      <td>14</td>\n      <td>1152</td>\n      <td>43</td>\n      <td>True</td>\n    </tr>\n    <tr>\n      <th>2</th>\n      <td>b6ee5bab-08dd-49b0-98b6-45cd0a28b12f</td>\n      <td>5163</td>\n      <td>2020-06-28 00</td>\n      <td>2020-06-28 05:48:42</td>\n      <td>64</td>\n      <td>1028</td>\n      <td>68</td>\n      <td>True</td>\n    </tr>\n    <tr>\n      <th>3</th>\n      <td>b6ee5bab-08dd-49b0-98b6-45cd0a28b12f</td>\n      <td>5163</td>\n      <td>2020-06-28 00</td>\n      <td>2020-06-28 05:48:47</td>\n      <td>2</td>\n      <td>1137</td>\n      <td>41</td>\n      <td>True</td>\n    </tr>\n    <tr>\n      <th>4</th>\n      <td>b6ee5bab-08dd-49b0-98b6-45cd0a28b12f</td>\n      <td>5163</td>\n      <td>2020-06-28 00</td>\n      <td>2020-06-28 05:48:52</td>\n      <td>53</td>\n      <td>1014</td>\n      <td>41</td>\n      <td>True</td>\n    </tr>\n    <tr>\n      <th>5</th>\n      <td>b6ee5bab-08dd-49b0-98b6-45cd0a28b12f</td>\n      <td>5163</td>\n      <td>2020-06-28 00</td>\n      <td>2020-06-28 05:48:57</td>\n      <td>45</td>\n      <td>1192</td>\n      <td>50</td>\n      <td>True</td>\n    </tr>\n    <tr>\n      <th>6</th>\n      <td>b6ee5bab-08dd-49b0-98b6-45cd0a28b12f</td>\n      <td>5163</td>\n      <td>2020-06-28 00</td>\n      <td>2020-06-28 05:49:02</td>\n      <td>32</td>\n      <td>927</td>\n      <td>34</td>\n      <td>True</td>\n    </tr>\n    <tr>\n      <th>7</th>\n      <td>b6ee5bab-08dd-49b0-98b6-45cd0a28b12f</td>\n      <td>5163</td>\n      <td>2020-06-28 00</td>\n      <td>2020-06-28 05:49:07</td>\n      <td>0</td>\n      <td>1143</td>\n      <td>65</td>\n      <td>True</td>\n    </tr>\n    <tr>\n      <th>8</th>\n      <td>b6ee5bab-08dd-49b0-98b6-45cd0a28b12f</td>\n      <td>5163</td>\n      <td>2020-06-28 00</td>\n      <td>2020-06-28 05:49:12</td>\n      <td>60</td>\n      <td>1178</td>\n      <td>42</td>\n      <td>True</td>\n    </tr>\n    <tr>\n      <th>9</th>\n      <td>b6ee5bab-08dd-49b0-98b6-45cd0a28b12f</td>\n      <td>5163</td>\n      <td>2020-06-28 00</td>\n      <td>2020-06-28 05:49:17</td>\n      <td>39</td>\n      <td>904</td>\n      <td>59</td>\n      <td>True</td>\n    </tr>\n    <tr>\n      <th>10</th>\n      <td>b6ee5bab-08dd-49b0-98b6-45cd0a28b12f</td>\n      <td>5163</td>\n      <td>2020-06-28 00</td>\n      <td>2020-06-28 05:49:22</td>\n      <td>33</td>\n      <td>970</td>\n      <td>47</td>\n      <td>True</td>\n    </tr>\n    <tr>\n      <th>11</th>\n      <td>b6ee5bab-08dd-49b0-98b6-45cd0a28b12f</td>\n      <td>5163</td>\n      <td>2020-06-28 00</td>\n      <td>2020-06-28 05:49:27</td>\n      <td>57</td>\n      <td>918</td>\n      <td>62</td>\n      <td>True</td>\n    </tr>\n    <tr>\n      <th>12</th>\n      <td>b6ee5bab-08dd-49b0-98b6-45cd0a28b12f</td>\n      <td>5163</td>\n      <td>2020-06-28 00</td>\n      <td>2020-06-28 05:49:32</td>\n      <td>52</td>\n      <td>1002</td>\n      <td>53</td>\n      <td>True</td>\n    </tr>\n    <tr>\n      <th>13</th>\n      <td>b6ee5bab-08dd-49b0-98b6-45cd0a28b12f</td>\n      <td>5163</td>\n      <td>2020-06-28 00</td>\n      <td>2020-06-28 05:49:37</td>\n      <td>63</td>\n      <td>1107</td>\n      <td>51</td>\n      <td>True</td>\n    </tr>\n    <tr>\n      <th>14</th>\n      <td>b6ee5bab-08dd-49b0-98b6-45cd0a28b12f</td>\n      <td>5163</td>\n      <td>2020-06-28 00</td>\n      <td>2020-06-28 05:49:42</td>\n      <td>67</td>\n      <td>1102</td>\n      <td>47</td>\n      <td>True</td>\n    </tr>\n    <tr>\n      <th>15</th>\n      <td>b6ee5bab-08dd-49b0-98b6-45cd0a28b12f</td>\n      <td>5163</td>\n      <td>2020-06-28 00</td>\n      <td>2020-06-28 05:49:47</td>\n      <td>61</td>\n      <td>976</td>\n      <td>45</td>\n      <td>True</td>\n    </tr>\n    <tr>\n      <th>16</th>\n      <td>b6ee5bab-08dd-49b0-98b6-45cd0a28b12f</td>\n      <td>5163</td>\n      <td>2020-06-28 00</td>\n      <td>2020-06-28 05:49:52</td>\n      <td>45</td>\n      <td>1067</td>\n      <td>33</td>\n      <td>True</td>\n    </tr>\n    <tr>\n      <th>17</th>\n      <td>b6ee5bab-08dd-49b0-98b6-45cd0a28b12f</td>\n      <td>5163</td>\n      <td>2020-06-28 00</td>\n      <td>2020-06-28 05:49:57</td>\n      <td>58</td>\n      <td>1084</td>\n      <td>43</td>\n      <td>True</td>\n    </tr>\n    <tr>\n      <th>18</th>\n      <td>b6ee5bab-08dd-49b0-98b6-45cd0a28b12f</td>\n      <td>5163</td>\n      <td>2020-06-28 00</td>\n      <td>2020-06-28 05:50:02</td>\n      <td>14</td>\n      <td>1058</td>\n      <td>34</td>\n      <td>False</td>\n    </tr>\n    <tr>\n      <th>19</th>\n      <td>b6ee5bab-08dd-49b0-98b6-45cd0a28b12f</td>\n      <td>5163</td>\n      <td>2020-06-28 00</td>\n      <td>2020-06-28 05:50:07</td>\n      <td>13</td>\n      <td>1126</td>\n      <td>32</td>\n      <td>False</td>\n    </tr>\n  </tbody>\n</table>\n</div>"
     },
     "execution_count": 3,
     "metadata": {},
     "output_type": "execute_result"
    }
   ],
   "source": [
    "# Getting Sensor Data with the training window flag incorporated\n",
    "df = refit.sensor_data_with_flag(start, end, sensors)\n",
    "df"
   ]
  },
  {
   "cell_type": "code",
   "execution_count": null,
   "outputs": [],
   "source": [
    "# Getting Sensor Data alone\n",
    "df = refit.sensor_data_with_flag(start, end, sensors)\n",
    "df"
   ],
   "metadata": {
    "collapsed": false,
    "pycharm": {
     "name": "#%%\n"
    }
   }
  },
  {
   "cell_type": "code",
   "execution_count": null,
   "outputs": [],
   "source": [
    "# Getting training windows alone\n",
    "df = refit.get_training_windows(start, end, sensors)\n",
    "df"
   ],
   "metadata": {
    "collapsed": false,
    "pycharm": {
     "name": "#%%\n"
    }
   }
  }
 ],
 "metadata": {
  "kernelspec": {
   "display_name": "refit",
   "language": "python",
   "name": "refit"
  },
  "language_info": {
   "codemirror_mode": {
    "name": "ipython",
    "version": 3
   },
   "file_extension": ".py",
   "mimetype": "text/x-python",
   "name": "python",
   "nbconvert_exporter": "python",
   "pygments_lexer": "ipython3",
   "version": "3.7.3"
  }
 },
 "nbformat": 4,
 "nbformat_minor": 4
}