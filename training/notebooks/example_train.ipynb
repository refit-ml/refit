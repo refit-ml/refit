{
 "cells": [
  {
   "cell_type": "code",
   "execution_count": 16,
   "metadata": {},
   "outputs": [
    {
     "name": "stdout",
     "output_type": "stream",
     "text": [
      "Refit Installed, You can now run the following to import REFIT\n",
      "from refit.api.refit import Refit\n"
     ]
    }
   ],
   "source": [
    "!refit_init"
   ]
  },
  {
   "cell_type": "code",
   "execution_count": 1,
   "metadata": {},
   "outputs": [],
   "source": [
    "#Example Notebook\n",
    "from sklearn.datasets import load_iris\n",
    "from datetime import datetime\n",
    "from refit.api.refit import Refit\n",
    "from sklearn.model_selection import train_test_split\n",
    "from sklearn.ensemble import RandomForestClassifier\n",
    "from sklearn import metrics\n",
    "from refit.enums.ModelFormat import ModelFormat\n",
    "from skl2onnx.common.data_types import FloatTensorType, BooleanTensorType\n",
    "from feature_extractor import FeatureExtractor"
   ]
  },
  {
   "cell_type": "code",
   "execution_count": 2,
   "metadata": {
    "collapsed": false,
    "jupyter": {
     "outputs_hidden": false
    },
    "pycharm": {
     "name": "#%%\n"
    }
   },
   "outputs": [
    {
     "name": "stderr",
     "output_type": "stream",
     "text": [
      "/home/docker_worker/notebooks/refit/util/Schema.py:23: YAMLLoadWarning: calling yaml.load() without Loader=... is deprecated, as the default Loader is unsafe. Please read https://msg.pyyaml.org/load for full details.\n",
      "  dict = yaml.load(schema_yaml)\n"
     ]
    },
    {
     "data": {
      "text/plain": [
       "['5160',\n",
       " '5161',\n",
       " '5162',\n",
       " '5163',\n",
       " '5164',\n",
       " '5165',\n",
       " '5166',\n",
       " '5167',\n",
       " '5168',\n",
       " '5169']"
      ]
     },
     "execution_count": 2,
     "metadata": {},
     "output_type": "execute_result"
    }
   ],
   "source": [
    "project_guid = \"b6ee5bab-08dd-49b0-98b6-45cd0a28b12f\"\n",
    "refit = Refit(project_guid)\n",
    "\n",
    "start = datetime(2020, 6, 27)\n",
    "end = datetime(2020, 6, 29)\n",
    "sensors = list(\n",
    "    map(lambda x: str(x),\n",
    "    range(5160, 5170))) #['5163']\n",
    "\n",
    "sensors"
   ]
  },
  {
   "cell_type": "code",
   "execution_count": 3,
   "metadata": {
    "pycharm": {
     "name": "#%%\n"
    }
   },
   "outputs": [
    {
     "name": "stderr",
     "output_type": "stream",
     "text": [
      "/home/docker_worker/notebooks/refit/dao/TrainingDao.py:127: FutureWarning: Sorting because non-concatenation axis is not aligned. A future version\n",
      "of pandas will change to not sort by default.\n",
      "\n",
      "To accept the future behavior, pass 'sort=False'.\n",
      "\n",
      "To retain the current behavior and silence the warning, pass 'sort=True'.\n",
      "\n",
      "  partitions)), sensors))\n"
     ]
    },
    {
     "data": {
      "text/html": [
       "<div>\n",
       "<style scoped>\n",
       "    .dataframe tbody tr th:only-of-type {\n",
       "        vertical-align: middle;\n",
       "    }\n",
       "\n",
       "    .dataframe tbody tr th {\n",
       "        vertical-align: top;\n",
       "    }\n",
       "\n",
       "    .dataframe thead th {\n",
       "        text-align: right;\n",
       "    }\n",
       "</style>\n",
       "<table border=\"1\" class=\"dataframe\">\n",
       "  <thead>\n",
       "    <tr style=\"text-align: right;\">\n",
       "      <th></th>\n",
       "      <th>data</th>\n",
       "      <th>partition_key</th>\n",
       "      <th>prediction</th>\n",
       "      <th>pressure</th>\n",
       "      <th>sensor_id</th>\n",
       "      <th>temperature</th>\n",
       "      <th>timestamp</th>\n",
       "      <th>wind</th>\n",
       "      <th>operable</th>\n",
       "    </tr>\n",
       "  </thead>\n",
       "  <tbody>\n",
       "    <tr>\n",
       "      <th>0</th>\n",
       "      <td>NaN</td>\n",
       "      <td>2020-06-28 00</td>\n",
       "      <td>NaN</td>\n",
       "      <td>1107.0</td>\n",
       "      <td>5163</td>\n",
       "      <td>60.0</td>\n",
       "      <td>2020-06-28 00:48:32</td>\n",
       "      <td>38.0</td>\n",
       "      <td>True</td>\n",
       "    </tr>\n",
       "    <tr>\n",
       "      <th>1</th>\n",
       "      <td>NaN</td>\n",
       "      <td>2020-06-28 00</td>\n",
       "      <td>NaN</td>\n",
       "      <td>1152.0</td>\n",
       "      <td>5163</td>\n",
       "      <td>43.0</td>\n",
       "      <td>2020-06-28 00:48:37</td>\n",
       "      <td>14.0</td>\n",
       "      <td>True</td>\n",
       "    </tr>\n",
       "    <tr>\n",
       "      <th>2</th>\n",
       "      <td>NaN</td>\n",
       "      <td>2020-06-28 00</td>\n",
       "      <td>NaN</td>\n",
       "      <td>1028.0</td>\n",
       "      <td>5163</td>\n",
       "      <td>68.0</td>\n",
       "      <td>2020-06-28 00:48:42</td>\n",
       "      <td>64.0</td>\n",
       "      <td>True</td>\n",
       "    </tr>\n",
       "    <tr>\n",
       "      <th>3</th>\n",
       "      <td>NaN</td>\n",
       "      <td>2020-06-28 00</td>\n",
       "      <td>NaN</td>\n",
       "      <td>1137.0</td>\n",
       "      <td>5163</td>\n",
       "      <td>41.0</td>\n",
       "      <td>2020-06-28 00:48:47</td>\n",
       "      <td>2.0</td>\n",
       "      <td>True</td>\n",
       "    </tr>\n",
       "    <tr>\n",
       "      <th>4</th>\n",
       "      <td>NaN</td>\n",
       "      <td>2020-06-28 00</td>\n",
       "      <td>NaN</td>\n",
       "      <td>1014.0</td>\n",
       "      <td>5163</td>\n",
       "      <td>41.0</td>\n",
       "      <td>2020-06-28 00:48:52</td>\n",
       "      <td>53.0</td>\n",
       "      <td>True</td>\n",
       "    </tr>\n",
       "    <tr>\n",
       "      <th>...</th>\n",
       "      <td>...</td>\n",
       "      <td>...</td>\n",
       "      <td>...</td>\n",
       "      <td>...</td>\n",
       "      <td>...</td>\n",
       "      <td>...</td>\n",
       "      <td>...</td>\n",
       "      <td>...</td>\n",
       "      <td>...</td>\n",
       "    </tr>\n",
       "    <tr>\n",
       "      <th>135</th>\n",
       "      <td>NaN</td>\n",
       "      <td>2020-06-28 04</td>\n",
       "      <td>NaN</td>\n",
       "      <td>1031.0</td>\n",
       "      <td>5169</td>\n",
       "      <td>78.0</td>\n",
       "      <td>2020-06-28 04:34:16</td>\n",
       "      <td>19.0</td>\n",
       "      <td>False</td>\n",
       "    </tr>\n",
       "    <tr>\n",
       "      <th>136</th>\n",
       "      <td>NaN</td>\n",
       "      <td>2020-06-28 04</td>\n",
       "      <td>NaN</td>\n",
       "      <td>1174.0</td>\n",
       "      <td>5169</td>\n",
       "      <td>69.0</td>\n",
       "      <td>2020-06-28 04:34:21</td>\n",
       "      <td>70.0</td>\n",
       "      <td>False</td>\n",
       "    </tr>\n",
       "    <tr>\n",
       "      <th>137</th>\n",
       "      <td>NaN</td>\n",
       "      <td>2020-06-28 04</td>\n",
       "      <td>NaN</td>\n",
       "      <td>914.0</td>\n",
       "      <td>5169</td>\n",
       "      <td>30.0</td>\n",
       "      <td>2020-06-28 04:34:26</td>\n",
       "      <td>47.0</td>\n",
       "      <td>False</td>\n",
       "    </tr>\n",
       "    <tr>\n",
       "      <th>138</th>\n",
       "      <td>NaN</td>\n",
       "      <td>2020-06-28 04</td>\n",
       "      <td>NaN</td>\n",
       "      <td>966.0</td>\n",
       "      <td>5169</td>\n",
       "      <td>41.0</td>\n",
       "      <td>2020-06-28 04:34:31</td>\n",
       "      <td>12.0</td>\n",
       "      <td>False</td>\n",
       "    </tr>\n",
       "    <tr>\n",
       "      <th>139</th>\n",
       "      <td>NaN</td>\n",
       "      <td>2020-06-28 04</td>\n",
       "      <td>NaN</td>\n",
       "      <td>994.0</td>\n",
       "      <td>5169</td>\n",
       "      <td>51.0</td>\n",
       "      <td>2020-06-28 04:34:36</td>\n",
       "      <td>3.0</td>\n",
       "      <td>False</td>\n",
       "    </tr>\n",
       "  </tbody>\n",
       "</table>\n",
       "<p>140 rows × 9 columns</p>\n",
       "</div>"
      ],
      "text/plain": [
       "    data  partition_key prediction pressure sensor_id temperature  \\\n",
       "0    NaN  2020-06-28 00        NaN   1107.0      5163        60.0   \n",
       "1    NaN  2020-06-28 00        NaN   1152.0      5163        43.0   \n",
       "2    NaN  2020-06-28 00        NaN   1028.0      5163        68.0   \n",
       "3    NaN  2020-06-28 00        NaN   1137.0      5163        41.0   \n",
       "4    NaN  2020-06-28 00        NaN   1014.0      5163        41.0   \n",
       "..   ...            ...        ...      ...       ...         ...   \n",
       "135  NaN  2020-06-28 04        NaN   1031.0      5169        78.0   \n",
       "136  NaN  2020-06-28 04        NaN   1174.0      5169        69.0   \n",
       "137  NaN  2020-06-28 04        NaN    914.0      5169        30.0   \n",
       "138  NaN  2020-06-28 04        NaN    966.0      5169        41.0   \n",
       "139  NaN  2020-06-28 04        NaN    994.0      5169        51.0   \n",
       "\n",
       "              timestamp  wind  operable  \n",
       "0   2020-06-28 00:48:32  38.0      True  \n",
       "1   2020-06-28 00:48:37  14.0      True  \n",
       "2   2020-06-28 00:48:42  64.0      True  \n",
       "3   2020-06-28 00:48:47   2.0      True  \n",
       "4   2020-06-28 00:48:52  53.0      True  \n",
       "..                  ...   ...       ...  \n",
       "135 2020-06-28 04:34:16  19.0     False  \n",
       "136 2020-06-28 04:34:21  70.0     False  \n",
       "137 2020-06-28 04:34:26  47.0     False  \n",
       "138 2020-06-28 04:34:31  12.0     False  \n",
       "139 2020-06-28 04:34:36   3.0     False  \n",
       "\n",
       "[140 rows x 9 columns]"
      ]
     },
     "execution_count": 3,
     "metadata": {},
     "output_type": "execute_result"
    }
   ],
   "source": [
    "# Getting Sensor Data with the training window flag incorporated\n",
    "df = refit.fetch_sensor_data(start, end, sensors=sensors, feature_extractor=FeatureExtractor())\n",
    "df"
   ]
  },
  {
   "cell_type": "code",
   "execution_count": 10,
   "metadata": {
    "collapsed": false,
    "jupyter": {
     "outputs_hidden": false
    },
    "pycharm": {
     "name": "#%%\n"
    }
   },
   "outputs": [
    {
     "data": {
      "text/plain": [
       "['wind', 'temperature', 'pressure']"
      ]
     },
     "execution_count": 10,
     "metadata": {},
     "output_type": "execute_result"
    }
   ],
   "source": [
    "skip_columns = ['project_guid', 'sensor_id', 'partition_key', 'timestamp', 'operable', 'data', 'prediction']\n",
    "feature_columns = list(filter( lambda x: x not in skip_columns, df.columns.array))\n",
    "feature_columns"
   ]
  },
  {
   "cell_type": "code",
   "execution_count": 11,
   "metadata": {
    "collapsed": false,
    "jupyter": {
     "outputs_hidden": false
    },
    "pycharm": {
     "name": "#%%\n"
    }
   },
   "outputs": [
    {
     "data": {
      "text/html": [
       "<div>\n",
       "<style scoped>\n",
       "    .dataframe tbody tr th:only-of-type {\n",
       "        vertical-align: middle;\n",
       "    }\n",
       "\n",
       "    .dataframe tbody tr th {\n",
       "        vertical-align: top;\n",
       "    }\n",
       "\n",
       "    .dataframe thead th {\n",
       "        text-align: right;\n",
       "    }\n",
       "</style>\n",
       "<table border=\"1\" class=\"dataframe\">\n",
       "  <thead>\n",
       "    <tr style=\"text-align: right;\">\n",
       "      <th></th>\n",
       "      <th>sensor_id</th>\n",
       "      <th>partition_key</th>\n",
       "      <th>timestamp</th>\n",
       "      <th>data</th>\n",
       "      <th>prediction</th>\n",
       "      <th>wind</th>\n",
       "      <th>temperature</th>\n",
       "      <th>pressure</th>\n",
       "      <th>operable</th>\n",
       "    </tr>\n",
       "  </thead>\n",
       "  <tbody>\n",
       "    <tr>\n",
       "      <th>0</th>\n",
       "      <td>5163</td>\n",
       "      <td>2020-06-28 00</td>\n",
       "      <td>2020-06-28 00:48:32</td>\n",
       "      <td>NaN</td>\n",
       "      <td>NaN</td>\n",
       "      <td>38.0</td>\n",
       "      <td>60.0</td>\n",
       "      <td>1107.0</td>\n",
       "      <td>1</td>\n",
       "    </tr>\n",
       "    <tr>\n",
       "      <th>1</th>\n",
       "      <td>5163</td>\n",
       "      <td>2020-06-28 00</td>\n",
       "      <td>2020-06-28 00:48:37</td>\n",
       "      <td>NaN</td>\n",
       "      <td>NaN</td>\n",
       "      <td>14.0</td>\n",
       "      <td>43.0</td>\n",
       "      <td>1152.0</td>\n",
       "      <td>1</td>\n",
       "    </tr>\n",
       "    <tr>\n",
       "      <th>2</th>\n",
       "      <td>5163</td>\n",
       "      <td>2020-06-28 00</td>\n",
       "      <td>2020-06-28 00:48:42</td>\n",
       "      <td>NaN</td>\n",
       "      <td>NaN</td>\n",
       "      <td>64.0</td>\n",
       "      <td>68.0</td>\n",
       "      <td>1028.0</td>\n",
       "      <td>1</td>\n",
       "    </tr>\n",
       "    <tr>\n",
       "      <th>3</th>\n",
       "      <td>5163</td>\n",
       "      <td>2020-06-28 00</td>\n",
       "      <td>2020-06-28 00:48:47</td>\n",
       "      <td>NaN</td>\n",
       "      <td>NaN</td>\n",
       "      <td>2.0</td>\n",
       "      <td>41.0</td>\n",
       "      <td>1137.0</td>\n",
       "      <td>1</td>\n",
       "    </tr>\n",
       "    <tr>\n",
       "      <th>4</th>\n",
       "      <td>5163</td>\n",
       "      <td>2020-06-28 00</td>\n",
       "      <td>2020-06-28 00:48:52</td>\n",
       "      <td>NaN</td>\n",
       "      <td>NaN</td>\n",
       "      <td>53.0</td>\n",
       "      <td>41.0</td>\n",
       "      <td>1014.0</td>\n",
       "      <td>1</td>\n",
       "    </tr>\n",
       "    <tr>\n",
       "      <th>...</th>\n",
       "      <td>...</td>\n",
       "      <td>...</td>\n",
       "      <td>...</td>\n",
       "      <td>...</td>\n",
       "      <td>...</td>\n",
       "      <td>...</td>\n",
       "      <td>...</td>\n",
       "      <td>...</td>\n",
       "      <td>...</td>\n",
       "    </tr>\n",
       "    <tr>\n",
       "      <th>135</th>\n",
       "      <td>5169</td>\n",
       "      <td>2020-06-28 04</td>\n",
       "      <td>2020-06-28 04:34:16</td>\n",
       "      <td>NaN</td>\n",
       "      <td>NaN</td>\n",
       "      <td>19.0</td>\n",
       "      <td>78.0</td>\n",
       "      <td>1031.0</td>\n",
       "      <td>0</td>\n",
       "    </tr>\n",
       "    <tr>\n",
       "      <th>136</th>\n",
       "      <td>5169</td>\n",
       "      <td>2020-06-28 04</td>\n",
       "      <td>2020-06-28 04:34:21</td>\n",
       "      <td>NaN</td>\n",
       "      <td>NaN</td>\n",
       "      <td>70.0</td>\n",
       "      <td>69.0</td>\n",
       "      <td>1174.0</td>\n",
       "      <td>1</td>\n",
       "    </tr>\n",
       "    <tr>\n",
       "      <th>137</th>\n",
       "      <td>5169</td>\n",
       "      <td>2020-06-28 04</td>\n",
       "      <td>2020-06-28 04:34:26</td>\n",
       "      <td>NaN</td>\n",
       "      <td>NaN</td>\n",
       "      <td>47.0</td>\n",
       "      <td>30.0</td>\n",
       "      <td>914.0</td>\n",
       "      <td>1</td>\n",
       "    </tr>\n",
       "    <tr>\n",
       "      <th>138</th>\n",
       "      <td>5169</td>\n",
       "      <td>2020-06-28 04</td>\n",
       "      <td>2020-06-28 04:34:31</td>\n",
       "      <td>NaN</td>\n",
       "      <td>NaN</td>\n",
       "      <td>12.0</td>\n",
       "      <td>41.0</td>\n",
       "      <td>966.0</td>\n",
       "      <td>1</td>\n",
       "    </tr>\n",
       "    <tr>\n",
       "      <th>139</th>\n",
       "      <td>5169</td>\n",
       "      <td>2020-06-28 04</td>\n",
       "      <td>2020-06-28 04:34:36</td>\n",
       "      <td>NaN</td>\n",
       "      <td>NaN</td>\n",
       "      <td>3.0</td>\n",
       "      <td>51.0</td>\n",
       "      <td>994.0</td>\n",
       "      <td>1</td>\n",
       "    </tr>\n",
       "  </tbody>\n",
       "</table>\n",
       "<p>140 rows × 9 columns</p>\n",
       "</div>"
      ],
      "text/plain": [
       "    sensor_id  partition_key           timestamp data prediction  wind  \\\n",
       "0        5163  2020-06-28 00 2020-06-28 00:48:32  NaN        NaN  38.0   \n",
       "1        5163  2020-06-28 00 2020-06-28 00:48:37  NaN        NaN  14.0   \n",
       "2        5163  2020-06-28 00 2020-06-28 00:48:42  NaN        NaN  64.0   \n",
       "3        5163  2020-06-28 00 2020-06-28 00:48:47  NaN        NaN   2.0   \n",
       "4        5163  2020-06-28 00 2020-06-28 00:48:52  NaN        NaN  53.0   \n",
       "..        ...            ...                 ...  ...        ...   ...   \n",
       "135      5169  2020-06-28 04 2020-06-28 04:34:16  NaN        NaN  19.0   \n",
       "136      5169  2020-06-28 04 2020-06-28 04:34:21  NaN        NaN  70.0   \n",
       "137      5169  2020-06-28 04 2020-06-28 04:34:26  NaN        NaN  47.0   \n",
       "138      5169  2020-06-28 04 2020-06-28 04:34:31  NaN        NaN  12.0   \n",
       "139      5169  2020-06-28 04 2020-06-28 04:34:36  NaN        NaN   3.0   \n",
       "\n",
       "     temperature  pressure  operable  \n",
       "0           60.0    1107.0         1  \n",
       "1           43.0    1152.0         1  \n",
       "2           68.0    1028.0         1  \n",
       "3           41.0    1137.0         1  \n",
       "4           41.0    1014.0         1  \n",
       "..           ...       ...       ...  \n",
       "135         78.0    1031.0         0  \n",
       "136         69.0    1174.0         1  \n",
       "137         30.0     914.0         1  \n",
       "138         41.0     966.0         1  \n",
       "139         51.0     994.0         1  \n",
       "\n",
       "[140 rows x 9 columns]"
      ]
     },
     "execution_count": 11,
     "metadata": {},
     "output_type": "execute_result"
    }
   ],
   "source": [
    "df['temperature'] = df['temperature'].astype(float)\n",
    "df['pressure'] = df['pressure'].astype(float)\n",
    "df['wind'] = df['wind'].astype(float)\n",
    "\n",
    "df['operable'] = (df.temperature < 75.0)\n",
    "df['operable'] = df['operable'].astype(int)\n",
    "df"
   ]
  },
  {
   "cell_type": "code",
   "execution_count": 12,
   "metadata": {
    "collapsed": false,
    "jupyter": {
     "outputs_hidden": false
    },
    "pycharm": {
     "name": "#%%\n"
    }
   },
   "outputs": [],
   "source": [
    "x = df[feature_columns]\n",
    "y = df['operable']"
   ]
  },
  {
   "cell_type": "code",
   "execution_count": 13,
   "metadata": {
    "collapsed": false,
    "jupyter": {
     "outputs_hidden": false
    },
    "pycharm": {
     "name": "#%%\n"
    }
   },
   "outputs": [],
   "source": [
    "X_train, X_test, y_train, y_test = train_test_split(x, y, test_size=0.3) # 70% training and 30% test"
   ]
  },
  {
   "cell_type": "code",
   "execution_count": 14,
   "metadata": {
    "collapsed": false,
    "jupyter": {
     "outputs_hidden": false
    },
    "pycharm": {
     "name": "#%%\n"
    }
   },
   "outputs": [
    {
     "data": {
      "text/plain": [
       "RandomForestClassifier()"
      ]
     },
     "execution_count": 14,
     "metadata": {},
     "output_type": "execute_result"
    }
   ],
   "source": [
    "clf=RandomForestClassifier(n_estimators=100)\n",
    "clf.fit(X_train,y_train)"
   ]
  },
  {
   "cell_type": "code",
   "execution_count": 15,
   "metadata": {
    "collapsed": false,
    "jupyter": {
     "outputs_hidden": false
    },
    "pycharm": {
     "name": "#%%\n"
    }
   },
   "outputs": [
    {
     "data": {
      "text/plain": [
       "array([1, 1, 1, 1, 1, 1, 0, 0, 1, 1, 1, 1, 0, 1, 1, 0, 1, 1, 1, 0, 1, 0,\n",
       "       1, 1, 1, 1, 1, 0, 0, 0, 0, 0, 1, 1, 0, 1, 1, 1, 1, 1, 1, 1])"
      ]
     },
     "execution_count": 15,
     "metadata": {},
     "output_type": "execute_result"
    }
   ],
   "source": [
    "y_pred=clf.predict(X_test)\n",
    "y_pred"
   ]
  },
  {
   "cell_type": "code",
   "execution_count": 16,
   "metadata": {
    "collapsed": false,
    "jupyter": {
     "outputs_hidden": false
    },
    "pycharm": {
     "name": "#%%\n"
    }
   },
   "outputs": [
    {
     "name": "stdout",
     "output_type": "stream",
     "text": [
      "Accuracy: 1.0\n"
     ]
    }
   ],
   "source": [
    "print(\"Accuracy:\",metrics.accuracy_score(y_test, y_pred))"
   ]
  },
  {
   "cell_type": "code",
   "execution_count": 17,
   "metadata": {
    "collapsed": false,
    "jupyter": {
     "outputs_hidden": false
    },
    "pycharm": {
     "name": "#%%\n"
    }
   },
   "outputs": [],
   "source": [
    "initial_types = [('input', FloatTensorType([None,len(feature_columns)]))]"
   ]
  },
  {
   "cell_type": "code",
   "execution_count": 19,
   "metadata": {
    "collapsed": false,
    "jupyter": {
     "outputs_hidden": false
    },
    "pycharm": {
     "name": "#%%\n"
    }
   },
   "outputs": [
    {
     "data": {
      "text/plain": [
       "'Model Published'"
      ]
     },
     "execution_count": 19,
     "metadata": {},
     "output_type": "execute_result"
    }
   ],
   "source": [
    "refit.save(clf, feature_columns, ModelFormat.SK_LEARN, initial_types=initial_types)"
   ]
  },
  {
   "cell_type": "code",
   "execution_count": null,
   "metadata": {},
   "outputs": [],
   "source": []
  }
 ],
 "metadata": {
  "kernelspec": {
   "display_name": "Python 3",
   "language": "python",
   "name": "python3"
  },
  "language_info": {
   "codemirror_mode": {
    "name": "ipython",
    "version": 3
   },
   "file_extension": ".py",
   "mimetype": "text/x-python",
   "name": "python",
   "nbconvert_exporter": "python",
   "pygments_lexer": "ipython3",
   "version": "3.7.6"
  }
 },
 "nbformat": 4,
 "nbformat_minor": 4
}