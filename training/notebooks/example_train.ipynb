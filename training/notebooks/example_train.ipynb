{
 "cells": [
  {
   "cell_type": "code",
   "execution_count": 1,
   "metadata": {},
   "outputs": [
    {
     "name": "stdout",
     "output_type": "stream",
     "text": [
      "Refit Installed, You can now run the following to import REFIT\n",
      "from refit import Refit\n"
     ]
    }
   ],
   "source": [
    "!refit_init"
   ]
  },
  {
   "cell_type": "code",
   "execution_count": 1,
   "metadata": {},
   "outputs": [],
   "source": [
    "#Example Notebook\n",
    "from sklearn.datasets import load_iris\n",
    "from datetime import datetime\n",
    "from refit import Refit\n",
    "from sklearn.model_selection import train_test_split\n",
    "from sklearn.ensemble import RandomForestClassifier\n",
    "from sklearn import metrics\n",
    "from refit.enums.model_format import ModelFormat\n",
    "from skl2onnx.common.data_types import FloatTensorType, BooleanTensorType\n",
    "from feature_extractor import FeatureExtractor"
   ]
  },
  {
   "cell_type": "code",
   "execution_count": 2,
   "metadata": {
    "collapsed": false,
    "jupyter": {
     "outputs_hidden": false
    },
    "pycharm": {
     "name": "#%%\n"
    }
   },
   "outputs": [
    {
     "data": {
      "text/plain": [
       "['5163', '8620', '8621', '8622', '8623', '8624']"
      ]
     },
     "execution_count": 2,
     "metadata": {},
     "output_type": "execute_result"
    }
   ],
   "source": [
    "project_guid = \"b6ee5bab-08dd-49b0-98b6-45cd0a28b12f\"\n",
    "refit = Refit(project_guid)\n",
    "\n",
    "start = datetime(2020, 6, 26)\n",
    "end = datetime(2020, 6, 30)\n",
    "sensors = list(\n",
    "    map(lambda x: str(x),\n",
    "    [5163] + list(range(8620, 8625)))) #['5163']\n",
    "\n",
    "sensors"
   ]
  },
  {
   "cell_type": "code",
   "execution_count": 3,
   "metadata": {
    "pycharm": {
     "name": "#%%\n"
    }
   },
   "outputs": [
    {
     "data": {
      "text/html": [
       "<div>\n",
       "<style scoped>\n",
       "    .dataframe tbody tr th:only-of-type {\n",
       "        vertical-align: middle;\n",
       "    }\n",
       "\n",
       "    .dataframe tbody tr th {\n",
       "        vertical-align: top;\n",
       "    }\n",
       "\n",
       "    .dataframe thead th {\n",
       "        text-align: right;\n",
       "    }\n",
       "</style>\n",
       "<table border=\"1\" class=\"dataframe\">\n",
       "  <thead>\n",
       "    <tr style=\"text-align: right;\">\n",
       "      <th></th>\n",
       "      <th>sensorid</th>\n",
       "      <th>pressure</th>\n",
       "      <th>timestamp</th>\n",
       "      <th>temperature</th>\n",
       "      <th>wind</th>\n",
       "    </tr>\n",
       "  </thead>\n",
       "  <tbody>\n",
       "    <tr>\n",
       "      <th>0</th>\n",
       "      <td>8620</td>\n",
       "      <td>1128.0</td>\n",
       "      <td>2020-06-28 17:10:22</td>\n",
       "      <td>65.0</td>\n",
       "      <td>21.0</td>\n",
       "    </tr>\n",
       "    <tr>\n",
       "      <th>1</th>\n",
       "      <td>8620</td>\n",
       "      <td>1044.0</td>\n",
       "      <td>2020-06-28 17:10:27</td>\n",
       "      <td>58.0</td>\n",
       "      <td>63.0</td>\n",
       "    </tr>\n",
       "    <tr>\n",
       "      <th>2</th>\n",
       "      <td>8620</td>\n",
       "      <td>961.0</td>\n",
       "      <td>2020-06-28 17:10:32</td>\n",
       "      <td>66.0</td>\n",
       "      <td>58.0</td>\n",
       "    </tr>\n",
       "    <tr>\n",
       "      <th>3</th>\n",
       "      <td>8620</td>\n",
       "      <td>1199.0</td>\n",
       "      <td>2020-06-28 17:10:37</td>\n",
       "      <td>31.0</td>\n",
       "      <td>20.0</td>\n",
       "    </tr>\n",
       "    <tr>\n",
       "      <th>4</th>\n",
       "      <td>8620</td>\n",
       "      <td>953.0</td>\n",
       "      <td>2020-06-28 17:10:42</td>\n",
       "      <td>78.0</td>\n",
       "      <td>32.0</td>\n",
       "    </tr>\n",
       "    <tr>\n",
       "      <th>...</th>\n",
       "      <td>...</td>\n",
       "      <td>...</td>\n",
       "      <td>...</td>\n",
       "      <td>...</td>\n",
       "      <td>...</td>\n",
       "    </tr>\n",
       "    <tr>\n",
       "      <th>95</th>\n",
       "      <td>8624</td>\n",
       "      <td>923.0</td>\n",
       "      <td>2020-06-28 13:23:02</td>\n",
       "      <td>69.0</td>\n",
       "      <td>64.0</td>\n",
       "    </tr>\n",
       "    <tr>\n",
       "      <th>96</th>\n",
       "      <td>8624</td>\n",
       "      <td>1022.0</td>\n",
       "      <td>2020-06-28 13:23:07</td>\n",
       "      <td>57.0</td>\n",
       "      <td>66.0</td>\n",
       "    </tr>\n",
       "    <tr>\n",
       "      <th>97</th>\n",
       "      <td>8624</td>\n",
       "      <td>994.0</td>\n",
       "      <td>2020-06-28 13:23:12</td>\n",
       "      <td>70.0</td>\n",
       "      <td>30.0</td>\n",
       "    </tr>\n",
       "    <tr>\n",
       "      <th>98</th>\n",
       "      <td>8624</td>\n",
       "      <td>1196.0</td>\n",
       "      <td>2020-06-28 13:23:17</td>\n",
       "      <td>74.0</td>\n",
       "      <td>43.0</td>\n",
       "    </tr>\n",
       "    <tr>\n",
       "      <th>99</th>\n",
       "      <td>8624</td>\n",
       "      <td>1083.0</td>\n",
       "      <td>2020-06-28 13:23:22</td>\n",
       "      <td>44.0</td>\n",
       "      <td>63.0</td>\n",
       "    </tr>\n",
       "  </tbody>\n",
       "</table>\n",
       "<p>100 rows × 5 columns</p>\n",
       "</div>"
      ],
      "text/plain": [
       "   sensorid pressure            timestamp temperature  wind\n",
       "0      8620   1128.0  2020-06-28 17:10:22        65.0  21.0\n",
       "1      8620   1044.0  2020-06-28 17:10:27        58.0  63.0\n",
       "2      8620    961.0  2020-06-28 17:10:32        66.0  58.0\n",
       "3      8620   1199.0  2020-06-28 17:10:37        31.0  20.0\n",
       "4      8620    953.0  2020-06-28 17:10:42        78.0  32.0\n",
       "..      ...      ...                  ...         ...   ...\n",
       "95     8624    923.0  2020-06-28 13:23:02        69.0  64.0\n",
       "96     8624   1022.0  2020-06-28 13:23:07        57.0  66.0\n",
       "97     8624    994.0  2020-06-28 13:23:12        70.0  30.0\n",
       "98     8624   1196.0  2020-06-28 13:23:17        74.0  43.0\n",
       "99     8624   1083.0  2020-06-28 13:23:22        44.0  63.0\n",
       "\n",
       "[100 rows x 5 columns]"
      ]
     },
     "execution_count": 3,
     "metadata": {},
     "output_type": "execute_result"
    }
   ],
   "source": [
    "# Getting Sensor Data with the training window flag incorporated\n",
    "df = refit.sensor_data(\n",
    "    start=start, \n",
    "    end=end, \n",
    "    sensors=sensors, \n",
    "    feature_extractor=FeatureExtractor(), \n",
    "    include_flag=False\n",
    ")\n",
    "df"
   ]
  },
  {
   "cell_type": "code",
   "execution_count": 4,
   "metadata": {
    "collapsed": false,
    "jupyter": {
     "outputs_hidden": false
    },
    "pycharm": {
     "name": "#%%\n"
    }
   },
   "outputs": [
    {
     "data": {
      "text/plain": [
       "['sensorid', 'pressure', 'temperature', 'wind']"
      ]
     },
     "execution_count": 4,
     "metadata": {},
     "output_type": "execute_result"
    }
   ],
   "source": [
    "skip_columns = ['project_guid', 'sensor_id', 'partition_key', 'timestamp', 'operable', 'data', 'prediction']\n",
    "feature_columns = list(filter( lambda x: x not in skip_columns, df.columns.array))\n",
    "feature_columns"
   ]
  },
  {
   "cell_type": "code",
   "execution_count": 5,
   "metadata": {
    "collapsed": false,
    "jupyter": {
     "outputs_hidden": false
    },
    "pycharm": {
     "name": "#%%\n"
    }
   },
   "outputs": [
    {
     "data": {
      "text/html": [
       "<div>\n",
       "<style scoped>\n",
       "    .dataframe tbody tr th:only-of-type {\n",
       "        vertical-align: middle;\n",
       "    }\n",
       "\n",
       "    .dataframe tbody tr th {\n",
       "        vertical-align: top;\n",
       "    }\n",
       "\n",
       "    .dataframe thead th {\n",
       "        text-align: right;\n",
       "    }\n",
       "</style>\n",
       "<table border=\"1\" class=\"dataframe\">\n",
       "  <thead>\n",
       "    <tr style=\"text-align: right;\">\n",
       "      <th></th>\n",
       "      <th>sensorid</th>\n",
       "      <th>pressure</th>\n",
       "      <th>timestamp</th>\n",
       "      <th>temperature</th>\n",
       "      <th>wind</th>\n",
       "      <th>operable</th>\n",
       "    </tr>\n",
       "  </thead>\n",
       "  <tbody>\n",
       "    <tr>\n",
       "      <th>0</th>\n",
       "      <td>8620</td>\n",
       "      <td>1128.0</td>\n",
       "      <td>2020-06-28 17:10:22</td>\n",
       "      <td>65.0</td>\n",
       "      <td>21.0</td>\n",
       "      <td>1</td>\n",
       "    </tr>\n",
       "    <tr>\n",
       "      <th>1</th>\n",
       "      <td>8620</td>\n",
       "      <td>1044.0</td>\n",
       "      <td>2020-06-28 17:10:27</td>\n",
       "      <td>58.0</td>\n",
       "      <td>63.0</td>\n",
       "      <td>1</td>\n",
       "    </tr>\n",
       "    <tr>\n",
       "      <th>2</th>\n",
       "      <td>8620</td>\n",
       "      <td>961.0</td>\n",
       "      <td>2020-06-28 17:10:32</td>\n",
       "      <td>66.0</td>\n",
       "      <td>58.0</td>\n",
       "      <td>1</td>\n",
       "    </tr>\n",
       "    <tr>\n",
       "      <th>3</th>\n",
       "      <td>8620</td>\n",
       "      <td>1199.0</td>\n",
       "      <td>2020-06-28 17:10:37</td>\n",
       "      <td>31.0</td>\n",
       "      <td>20.0</td>\n",
       "      <td>1</td>\n",
       "    </tr>\n",
       "    <tr>\n",
       "      <th>4</th>\n",
       "      <td>8620</td>\n",
       "      <td>953.0</td>\n",
       "      <td>2020-06-28 17:10:42</td>\n",
       "      <td>78.0</td>\n",
       "      <td>32.0</td>\n",
       "      <td>0</td>\n",
       "    </tr>\n",
       "    <tr>\n",
       "      <th>...</th>\n",
       "      <td>...</td>\n",
       "      <td>...</td>\n",
       "      <td>...</td>\n",
       "      <td>...</td>\n",
       "      <td>...</td>\n",
       "      <td>...</td>\n",
       "    </tr>\n",
       "    <tr>\n",
       "      <th>95</th>\n",
       "      <td>8624</td>\n",
       "      <td>923.0</td>\n",
       "      <td>2020-06-28 13:23:02</td>\n",
       "      <td>69.0</td>\n",
       "      <td>64.0</td>\n",
       "      <td>1</td>\n",
       "    </tr>\n",
       "    <tr>\n",
       "      <th>96</th>\n",
       "      <td>8624</td>\n",
       "      <td>1022.0</td>\n",
       "      <td>2020-06-28 13:23:07</td>\n",
       "      <td>57.0</td>\n",
       "      <td>66.0</td>\n",
       "      <td>1</td>\n",
       "    </tr>\n",
       "    <tr>\n",
       "      <th>97</th>\n",
       "      <td>8624</td>\n",
       "      <td>994.0</td>\n",
       "      <td>2020-06-28 13:23:12</td>\n",
       "      <td>70.0</td>\n",
       "      <td>30.0</td>\n",
       "      <td>1</td>\n",
       "    </tr>\n",
       "    <tr>\n",
       "      <th>98</th>\n",
       "      <td>8624</td>\n",
       "      <td>1196.0</td>\n",
       "      <td>2020-06-28 13:23:17</td>\n",
       "      <td>74.0</td>\n",
       "      <td>43.0</td>\n",
       "      <td>1</td>\n",
       "    </tr>\n",
       "    <tr>\n",
       "      <th>99</th>\n",
       "      <td>8624</td>\n",
       "      <td>1083.0</td>\n",
       "      <td>2020-06-28 13:23:22</td>\n",
       "      <td>44.0</td>\n",
       "      <td>63.0</td>\n",
       "      <td>1</td>\n",
       "    </tr>\n",
       "  </tbody>\n",
       "</table>\n",
       "<p>100 rows × 6 columns</p>\n",
       "</div>"
      ],
      "text/plain": [
       "   sensorid  pressure            timestamp  temperature  wind  operable\n",
       "0      8620    1128.0  2020-06-28 17:10:22         65.0  21.0         1\n",
       "1      8620    1044.0  2020-06-28 17:10:27         58.0  63.0         1\n",
       "2      8620     961.0  2020-06-28 17:10:32         66.0  58.0         1\n",
       "3      8620    1199.0  2020-06-28 17:10:37         31.0  20.0         1\n",
       "4      8620     953.0  2020-06-28 17:10:42         78.0  32.0         0\n",
       "..      ...       ...                  ...          ...   ...       ...\n",
       "95     8624     923.0  2020-06-28 13:23:02         69.0  64.0         1\n",
       "96     8624    1022.0  2020-06-28 13:23:07         57.0  66.0         1\n",
       "97     8624     994.0  2020-06-28 13:23:12         70.0  30.0         1\n",
       "98     8624    1196.0  2020-06-28 13:23:17         74.0  43.0         1\n",
       "99     8624    1083.0  2020-06-28 13:23:22         44.0  63.0         1\n",
       "\n",
       "[100 rows x 6 columns]"
      ]
     },
     "execution_count": 5,
     "metadata": {},
     "output_type": "execute_result"
    }
   ],
   "source": [
    "df['temperature'] = df['temperature'].astype(float)\n",
    "df['pressure'] = df['pressure'].astype(float)\n",
    "df['wind'] = df['wind'].astype(float)\n",
    "\n",
    "df['operable'] = (df.temperature < 75.0)\n",
    "df['operable'] = df['operable'].astype(int)\n",
    "df"
   ]
  },
  {
   "cell_type": "code",
   "execution_count": 6,
   "metadata": {
    "collapsed": false,
    "jupyter": {
     "outputs_hidden": false
    },
    "pycharm": {
     "name": "#%%\n"
    }
   },
   "outputs": [],
   "source": [
    "x = df[feature_columns]\n",
    "y = df['operable']"
   ]
  },
  {
   "cell_type": "code",
   "execution_count": 7,
   "metadata": {
    "collapsed": false,
    "jupyter": {
     "outputs_hidden": false
    },
    "pycharm": {
     "name": "#%%\n"
    }
   },
   "outputs": [],
   "source": [
    "X_train, X_test, y_train, y_test = train_test_split(x, y, test_size=0.3) # 70% training and 30% test"
   ]
  },
  {
   "cell_type": "code",
   "execution_count": 8,
   "metadata": {
    "collapsed": false,
    "jupyter": {
     "outputs_hidden": false
    },
    "pycharm": {
     "name": "#%%\n"
    }
   },
   "outputs": [
    {
     "data": {
      "text/plain": [
       "RandomForestClassifier()"
      ]
     },
     "execution_count": 8,
     "metadata": {},
     "output_type": "execute_result"
    }
   ],
   "source": [
    "clf=RandomForestClassifier(n_estimators=100)\n",
    "clf.fit(X_train,y_train)"
   ]
  },
  {
   "cell_type": "code",
   "execution_count": 9,
   "metadata": {
    "collapsed": false,
    "jupyter": {
     "outputs_hidden": false
    },
    "pycharm": {
     "name": "#%%\n"
    }
   },
   "outputs": [
    {
     "data": {
      "text/plain": [
       "array([0, 1, 1, 0, 1, 1, 1, 1, 1, 1, 1, 1, 1, 1, 1, 1, 1, 1, 1, 0, 1, 1,\n",
       "       1, 1, 1, 1, 1, 1, 0, 1])"
      ]
     },
     "execution_count": 9,
     "metadata": {},
     "output_type": "execute_result"
    }
   ],
   "source": [
    "y_pred=clf.predict(X_test)\n",
    "y_pred"
   ]
  },
  {
   "cell_type": "code",
   "execution_count": 10,
   "metadata": {
    "collapsed": false,
    "jupyter": {
     "outputs_hidden": false
    },
    "pycharm": {
     "name": "#%%\n"
    }
   },
   "outputs": [
    {
     "name": "stdout",
     "output_type": "stream",
     "text": [
      "Accuracy: 1.0\n"
     ]
    }
   ],
   "source": [
    "print(\"Accuracy:\",metrics.accuracy_score(y_test, y_pred))"
   ]
  },
  {
   "cell_type": "code",
   "execution_count": 11,
   "metadata": {
    "collapsed": false,
    "jupyter": {
     "outputs_hidden": false
    },
    "pycharm": {
     "name": "#%%\n"
    }
   },
   "outputs": [],
   "source": [
    "initial_types = [('input', FloatTensorType([None,len(feature_columns)]))]"
   ]
  },
  {
   "cell_type": "code",
   "execution_count": 15,
   "metadata": {
    "collapsed": false,
    "jupyter": {
     "outputs_hidden": false
    },
    "pycharm": {
     "name": "#%%\n"
    }
   },
   "outputs": [
    {
     "data": {
      "text/plain": [
       "<Response [200]>"
      ]
     },
     "execution_count": 15,
     "metadata": {},
     "output_type": "execute_result"
    }
   ],
   "source": [
    "refit.save(clf, feature_columns, ModelFormat.SK_LEARN, initial_types=initial_types)"
   ]
  },
  {
   "cell_type": "code",
   "execution_count": null,
   "metadata": {},
   "outputs": [],
   "source": []
  }
 ],
 "metadata": {
  "kernelspec": {
   "display_name": "Python 3",
   "language": "python",
   "name": "python3"
  },
  "language_info": {
   "codemirror_mode": {
    "name": "ipython",
    "version": 3
   },
   "file_extension": ".py",
   "mimetype": "text/x-python",
   "name": "python",
   "nbconvert_exporter": "python",
   "pygments_lexer": "ipython3",
   "version": "3.7.6"
  }
 },
 "nbformat": 4,
 "nbformat_minor": 4
}
