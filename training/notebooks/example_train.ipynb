{
 "cells": [
  {
   "cell_type": "code",
   "execution_count": 1,
   "metadata": {},
   "outputs": [
    {
     "name": "stdout",
     "output_type": "stream",
     "text": [
      "Requirement already satisfied: pycryptodome in /opt/conda/lib/python3.8/site-packages (from -r refit/requirements.txt (line 1)) (3.9.8)\n",
      "Requirement already satisfied: numpy==1.18.5 in /opt/conda/lib/python3.8/site-packages (from -r refit/requirements.txt (line 2)) (1.18.5)\n",
      "Requirement already satisfied: pandas==1.1.0 in /opt/conda/lib/python3.8/site-packages (from -r refit/requirements.txt (line 3)) (1.1.0)\n",
      "Requirement already satisfied: seaborn==0.10.1 in /opt/conda/lib/python3.8/site-packages (from -r refit/requirements.txt (line 4)) (0.10.1)\n",
      "Requirement already satisfied: matplotlib==3.3.0 in /opt/conda/lib/python3.8/site-packages (from -r refit/requirements.txt (line 5)) (3.3.0)\n",
      "Requirement already satisfied: scipy==1.5.2 in /opt/conda/lib/python3.8/site-packages (from -r refit/requirements.txt (line 6)) (1.5.2)\n",
      "Requirement already satisfied: statsmodels==0.11.1 in /opt/conda/lib/python3.8/site-packages (from -r refit/requirements.txt (line 7)) (0.11.1)\n",
      "Requirement already satisfied: sklearn==0.0 in /opt/conda/lib/python3.8/site-packages (from -r refit/requirements.txt (line 8)) (0.0)\n",
      "Requirement already satisfied: scikit-learn==0.23.2 in /opt/conda/lib/python3.8/site-packages (from -r refit/requirements.txt (line 9)) (0.23.2)\n",
      "Requirement already satisfied: cassandra-driver==3.24.0 in /opt/conda/lib/python3.8/site-packages (from -r refit/requirements.txt (line 10)) (3.24.0)\n",
      "Requirement already satisfied: keras2onnx==1.6.0 in /opt/conda/lib/python3.8/site-packages (from -r refit/requirements.txt (line 11)) (1.6.0)\n",
      "Requirement already satisfied: Keras==2.2.5 in /opt/conda/lib/python3.8/site-packages (from -r refit/requirements.txt (line 12)) (2.2.5)\n",
      "Requirement already satisfied: protobuf==3.8.0 in /opt/conda/lib/python3.8/site-packages (from -r refit/requirements.txt (line 13)) (3.8.0)\n",
      "Requirement already satisfied: onnxmltools==1.6.0 in /opt/conda/lib/python3.8/site-packages (from -r refit/requirements.txt (line 14)) (1.6.0)\n",
      "Requirement already satisfied: pyyaml==5.3.1 in /opt/conda/lib/python3.8/site-packages (from -r refit/requirements.txt (line 15)) (5.3.1)\n",
      "Requirement already satisfied: minio==6.0.0 in /opt/conda/lib/python3.8/site-packages (from -r refit/requirements.txt (line 16)) (6.0.0)\n",
      "Requirement already satisfied: python-dateutil>=2.7.3 in /opt/conda/lib/python3.8/site-packages (from pandas==1.1.0->-r refit/requirements.txt (line 3)) (2.8.1)\n",
      "Requirement already satisfied: pytz>=2017.2 in /opt/conda/lib/python3.8/site-packages (from pandas==1.1.0->-r refit/requirements.txt (line 3)) (2020.1)\n",
      "Requirement already satisfied: cycler>=0.10 in /opt/conda/lib/python3.8/site-packages (from matplotlib==3.3.0->-r refit/requirements.txt (line 5)) (0.10.0)\n",
      "Requirement already satisfied: kiwisolver>=1.0.1 in /opt/conda/lib/python3.8/site-packages (from matplotlib==3.3.0->-r refit/requirements.txt (line 5)) (1.2.0)\n",
      "Requirement already satisfied: pillow>=6.2.0 in /opt/conda/lib/python3.8/site-packages (from matplotlib==3.3.0->-r refit/requirements.txt (line 5)) (7.2.0)\n",
      "Requirement already satisfied: pyparsing!=2.0.4,!=2.1.2,!=2.1.6,>=2.0.3 in /opt/conda/lib/python3.8/site-packages (from matplotlib==3.3.0->-r refit/requirements.txt (line 5)) (2.4.7)\n",
      "Requirement already satisfied: patsy>=0.5 in /opt/conda/lib/python3.8/site-packages (from statsmodels==0.11.1->-r refit/requirements.txt (line 7)) (0.5.1)\n",
      "Requirement already satisfied: threadpoolctl>=2.0.0 in /opt/conda/lib/python3.8/site-packages (from scikit-learn==0.23.2->-r refit/requirements.txt (line 9)) (2.1.0)\n",
      "Requirement already satisfied: joblib>=0.11 in /opt/conda/lib/python3.8/site-packages (from scikit-learn==0.23.2->-r refit/requirements.txt (line 9)) (0.16.0)\n",
      "Requirement already satisfied: geomet<0.3,>=0.1 in /opt/conda/lib/python3.8/site-packages (from cassandra-driver==3.24.0->-r refit/requirements.txt (line 10)) (0.2.1.post1)\n",
      "Requirement already satisfied: six>=1.9 in /opt/conda/lib/python3.8/site-packages (from cassandra-driver==3.24.0->-r refit/requirements.txt (line 10)) (1.15.0)\n",
      "Requirement already satisfied: onnxconverter-common>=1.6.0 in /opt/conda/lib/python3.8/site-packages (from keras2onnx==1.6.0->-r refit/requirements.txt (line 11)) (1.7.0)\n",
      "Requirement already satisfied: fire in /opt/conda/lib/python3.8/site-packages (from keras2onnx==1.6.0->-r refit/requirements.txt (line 11)) (0.3.1)\n",
      "Requirement already satisfied: onnx in /opt/conda/lib/python3.8/site-packages (from keras2onnx==1.6.0->-r refit/requirements.txt (line 11)) (1.7.0)\n",
      "Requirement already satisfied: requests in /opt/conda/lib/python3.8/site-packages (from keras2onnx==1.6.0->-r refit/requirements.txt (line 11)) (2.24.0)\n",
      "Requirement already satisfied: keras-preprocessing>=1.1.0 in /opt/conda/lib/python3.8/site-packages (from Keras==2.2.5->-r refit/requirements.txt (line 12)) (1.1.2)\n",
      "Requirement already satisfied: h5py in /opt/conda/lib/python3.8/site-packages (from Keras==2.2.5->-r refit/requirements.txt (line 12)) (2.10.0)\n",
      "Requirement already satisfied: keras-applications>=1.0.8 in /opt/conda/lib/python3.8/site-packages (from Keras==2.2.5->-r refit/requirements.txt (line 12)) (1.0.8)\n",
      "Requirement already satisfied: setuptools in /opt/conda/lib/python3.8/site-packages (from protobuf==3.8.0->-r refit/requirements.txt (line 13)) (49.6.0.post20200917)\n",
      "Requirement already satisfied: skl2onnx in /opt/conda/lib/python3.8/site-packages (from onnxmltools==1.6.0->-r refit/requirements.txt (line 14)) (1.7.0)\n",
      "Requirement already satisfied: configparser in /opt/conda/lib/python3.8/site-packages (from minio==6.0.0->-r refit/requirements.txt (line 16)) (5.0.0)\n",
      "Requirement already satisfied: certifi in /opt/conda/lib/python3.8/site-packages (from minio==6.0.0->-r refit/requirements.txt (line 16)) (2020.6.20)\n",
      "Requirement already satisfied: urllib3 in /opt/conda/lib/python3.8/site-packages (from minio==6.0.0->-r refit/requirements.txt (line 16)) (1.25.10)\n",
      "Requirement already satisfied: click in /opt/conda/lib/python3.8/site-packages (from geomet<0.3,>=0.1->cassandra-driver==3.24.0->-r refit/requirements.txt (line 10)) (7.1.2)\n",
      "Requirement already satisfied: termcolor in /opt/conda/lib/python3.8/site-packages (from fire->keras2onnx==1.6.0->-r refit/requirements.txt (line 11)) (1.1.0)\n",
      "Requirement already satisfied: typing-extensions>=3.6.2.1 in /opt/conda/lib/python3.8/site-packages (from onnx->keras2onnx==1.6.0->-r refit/requirements.txt (line 11)) (3.7.4.3)\n",
      "Requirement already satisfied: chardet<4,>=3.0.2 in /opt/conda/lib/python3.8/site-packages (from requests->keras2onnx==1.6.0->-r refit/requirements.txt (line 11)) (3.0.4)\n",
      "Requirement already satisfied: idna<3,>=2.5 in /opt/conda/lib/python3.8/site-packages (from requests->keras2onnx==1.6.0->-r refit/requirements.txt (line 11)) (2.10)\n",
      "Refit Installed, You can now run the following to import REFIT\n",
      "from refit.api.refit import Refit\n"
     ]
    }
   ],
   "source": [
    "!refit_init"
   ]
  },
  {
   "cell_type": "code",
   "execution_count": 2,
   "metadata": {},
   "outputs": [],
   "source": [
    "#Example Notebook\n",
    "from sklearn.datasets import load_iris\n",
    "from datetime import datetime\n",
    "from refit.api.refit import Refit\n",
    "from sklearn.model_selection import train_test_split\n",
    "from sklearn.ensemble import RandomForestClassifier\n",
    "from sklearn import metrics\n",
    "from refit.enums.ModelFormat import ModelFormat\n",
    "from skl2onnx.common.data_types import FloatTensorType, BooleanTensorType\n"
   ]
  },
  {
   "cell_type": "code",
   "execution_count": 3,
   "metadata": {
    "collapsed": false,
    "jupyter": {
     "outputs_hidden": false
    },
    "pycharm": {
     "name": "#%%\n"
    }
   },
   "outputs": [
    {
     "name": "stderr",
     "output_type": "stream",
     "text": [
      "/home/docker_worker/notebooks/refit/util/Schema.py:23: YAMLLoadWarning: calling yaml.load() without Loader=... is deprecated, as the default Loader is unsafe. Please read https://msg.pyyaml.org/load for full details.\n",
      "  dict = yaml.load(schema_yaml)\n"
     ]
    },
    {
     "data": {
      "text/plain": [
       "['5160',\n",
       " '5161',\n",
       " '5162',\n",
       " '5163',\n",
       " '5164',\n",
       " '5165',\n",
       " '5166',\n",
       " '5167',\n",
       " '5168',\n",
       " '5169']"
      ]
     },
     "execution_count": 3,
     "metadata": {},
     "output_type": "execute_result"
    }
   ],
   "source": [
    "project_guid = \"b6ee5bab-08dd-49b0-98b6-45cd0a28b12f\"\n",
    "refit = Refit(project_guid)\n",
    "\n",
    "start = datetime(2020, 6, 27)\n",
    "end = datetime(2020, 6, 29)\n",
    "sensors = list(\n",
    "    map(lambda x: str(x),\n",
    "    range(5160, 5170))) #['5163']\n",
    "\n",
    "sensors"
   ]
  },
  {
   "cell_type": "code",
   "execution_count": 4,
   "metadata": {
    "pycharm": {
     "name": "#%%\n"
    }
   },
   "outputs": [
    {
     "data": {
      "text/html": [
       "<div>\n",
       "<style scoped>\n",
       "    .dataframe tbody tr th:only-of-type {\n",
       "        vertical-align: middle;\n",
       "    }\n",
       "\n",
       "    .dataframe tbody tr th {\n",
       "        vertical-align: top;\n",
       "    }\n",
       "\n",
       "    .dataframe thead th {\n",
       "        text-align: right;\n",
       "    }\n",
       "</style>\n",
       "<table border=\"1\" class=\"dataframe\">\n",
       "  <thead>\n",
       "    <tr style=\"text-align: right;\">\n",
       "      <th></th>\n",
       "      <th>sensor_id</th>\n",
       "      <th>partition_key</th>\n",
       "      <th>timestamp</th>\n",
       "      <th>wind</th>\n",
       "      <th>temperature</th>\n",
       "      <th>pressure</th>\n",
       "      <th>operable</th>\n",
       "    </tr>\n",
       "  </thead>\n",
       "  <tbody>\n",
       "    <tr>\n",
       "      <th>0</th>\n",
       "      <td>5163</td>\n",
       "      <td>2020-06-28 00</td>\n",
       "      <td>2020-06-28 00:48:32</td>\n",
       "      <td>38.0</td>\n",
       "      <td>60.0</td>\n",
       "      <td>1107.0</td>\n",
       "      <td>True</td>\n",
       "    </tr>\n",
       "    <tr>\n",
       "      <th>1</th>\n",
       "      <td>5163</td>\n",
       "      <td>2020-06-28 00</td>\n",
       "      <td>2020-06-28 00:48:37</td>\n",
       "      <td>14.0</td>\n",
       "      <td>43.0</td>\n",
       "      <td>1152.0</td>\n",
       "      <td>True</td>\n",
       "    </tr>\n",
       "    <tr>\n",
       "      <th>2</th>\n",
       "      <td>5163</td>\n",
       "      <td>2020-06-28 00</td>\n",
       "      <td>2020-06-28 00:48:42</td>\n",
       "      <td>64.0</td>\n",
       "      <td>68.0</td>\n",
       "      <td>1028.0</td>\n",
       "      <td>True</td>\n",
       "    </tr>\n",
       "    <tr>\n",
       "      <th>3</th>\n",
       "      <td>5163</td>\n",
       "      <td>2020-06-28 00</td>\n",
       "      <td>2020-06-28 00:48:47</td>\n",
       "      <td>2.0</td>\n",
       "      <td>41.0</td>\n",
       "      <td>1137.0</td>\n",
       "      <td>True</td>\n",
       "    </tr>\n",
       "    <tr>\n",
       "      <th>4</th>\n",
       "      <td>5163</td>\n",
       "      <td>2020-06-28 00</td>\n",
       "      <td>2020-06-28 00:48:52</td>\n",
       "      <td>53.0</td>\n",
       "      <td>41.0</td>\n",
       "      <td>1014.0</td>\n",
       "      <td>True</td>\n",
       "    </tr>\n",
       "    <tr>\n",
       "      <th>...</th>\n",
       "      <td>...</td>\n",
       "      <td>...</td>\n",
       "      <td>...</td>\n",
       "      <td>...</td>\n",
       "      <td>...</td>\n",
       "      <td>...</td>\n",
       "      <td>...</td>\n",
       "    </tr>\n",
       "    <tr>\n",
       "      <th>135</th>\n",
       "      <td>5169</td>\n",
       "      <td>2020-06-28 04</td>\n",
       "      <td>2020-06-28 04:34:16</td>\n",
       "      <td>19.0</td>\n",
       "      <td>78.0</td>\n",
       "      <td>1031.0</td>\n",
       "      <td>False</td>\n",
       "    </tr>\n",
       "    <tr>\n",
       "      <th>136</th>\n",
       "      <td>5169</td>\n",
       "      <td>2020-06-28 04</td>\n",
       "      <td>2020-06-28 04:34:21</td>\n",
       "      <td>70.0</td>\n",
       "      <td>69.0</td>\n",
       "      <td>1174.0</td>\n",
       "      <td>False</td>\n",
       "    </tr>\n",
       "    <tr>\n",
       "      <th>137</th>\n",
       "      <td>5169</td>\n",
       "      <td>2020-06-28 04</td>\n",
       "      <td>2020-06-28 04:34:26</td>\n",
       "      <td>47.0</td>\n",
       "      <td>30.0</td>\n",
       "      <td>914.0</td>\n",
       "      <td>False</td>\n",
       "    </tr>\n",
       "    <tr>\n",
       "      <th>138</th>\n",
       "      <td>5169</td>\n",
       "      <td>2020-06-28 04</td>\n",
       "      <td>2020-06-28 04:34:31</td>\n",
       "      <td>12.0</td>\n",
       "      <td>41.0</td>\n",
       "      <td>966.0</td>\n",
       "      <td>False</td>\n",
       "    </tr>\n",
       "    <tr>\n",
       "      <th>139</th>\n",
       "      <td>5169</td>\n",
       "      <td>2020-06-28 04</td>\n",
       "      <td>2020-06-28 04:34:36</td>\n",
       "      <td>3.0</td>\n",
       "      <td>51.0</td>\n",
       "      <td>994.0</td>\n",
       "      <td>False</td>\n",
       "    </tr>\n",
       "  </tbody>\n",
       "</table>\n",
       "<p>140 rows × 7 columns</p>\n",
       "</div>"
      ],
      "text/plain": [
       "    sensor_id  partition_key           timestamp  wind temperature pressure  \\\n",
       "0        5163  2020-06-28 00 2020-06-28 00:48:32  38.0        60.0   1107.0   \n",
       "1        5163  2020-06-28 00 2020-06-28 00:48:37  14.0        43.0   1152.0   \n",
       "2        5163  2020-06-28 00 2020-06-28 00:48:42  64.0        68.0   1028.0   \n",
       "3        5163  2020-06-28 00 2020-06-28 00:48:47   2.0        41.0   1137.0   \n",
       "4        5163  2020-06-28 00 2020-06-28 00:48:52  53.0        41.0   1014.0   \n",
       "..        ...            ...                 ...   ...         ...      ...   \n",
       "135      5169  2020-06-28 04 2020-06-28 04:34:16  19.0        78.0   1031.0   \n",
       "136      5169  2020-06-28 04 2020-06-28 04:34:21  70.0        69.0   1174.0   \n",
       "137      5169  2020-06-28 04 2020-06-28 04:34:26  47.0        30.0    914.0   \n",
       "138      5169  2020-06-28 04 2020-06-28 04:34:31  12.0        41.0    966.0   \n",
       "139      5169  2020-06-28 04 2020-06-28 04:34:36   3.0        51.0    994.0   \n",
       "\n",
       "     operable  \n",
       "0        True  \n",
       "1        True  \n",
       "2        True  \n",
       "3        True  \n",
       "4        True  \n",
       "..        ...  \n",
       "135     False  \n",
       "136     False  \n",
       "137     False  \n",
       "138     False  \n",
       "139     False  \n",
       "\n",
       "[140 rows x 7 columns]"
      ]
     },
     "execution_count": 4,
     "metadata": {},
     "output_type": "execute_result"
    }
   ],
   "source": [
    "# Getting Sensor Data with the training window flag incorporated\n",
    "df = refit.sensor_data_with_flag(start, end, sensors=sensors)\n",
    "df"
   ]
  },
  {
   "cell_type": "code",
   "execution_count": 5,
   "metadata": {
    "collapsed": false,
    "jupyter": {
     "outputs_hidden": false
    },
    "pycharm": {
     "name": "#%%\n"
    }
   },
   "outputs": [
    {
     "data": {
      "text/plain": [
       "['wind', 'temperature', 'pressure']"
      ]
     },
     "execution_count": 5,
     "metadata": {},
     "output_type": "execute_result"
    }
   ],
   "source": [
    "skip_columns = ['project_guid', 'sensor_id', 'partition_key', 'timestamp', 'operable']\n",
    "feature_columns = list(filter( lambda x: x not in skip_columns, df.columns.array))\n",
    "feature_columns"
   ]
  },
  {
   "cell_type": "code",
   "execution_count": 6,
   "metadata": {
    "collapsed": false,
    "jupyter": {
     "outputs_hidden": false
    },
    "pycharm": {
     "name": "#%%\n"
    }
   },
   "outputs": [
    {
     "data": {
      "text/html": [
       "<div>\n",
       "<style scoped>\n",
       "    .dataframe tbody tr th:only-of-type {\n",
       "        vertical-align: middle;\n",
       "    }\n",
       "\n",
       "    .dataframe tbody tr th {\n",
       "        vertical-align: top;\n",
       "    }\n",
       "\n",
       "    .dataframe thead th {\n",
       "        text-align: right;\n",
       "    }\n",
       "</style>\n",
       "<table border=\"1\" class=\"dataframe\">\n",
       "  <thead>\n",
       "    <tr style=\"text-align: right;\">\n",
       "      <th></th>\n",
       "      <th>sensor_id</th>\n",
       "      <th>partition_key</th>\n",
       "      <th>timestamp</th>\n",
       "      <th>wind</th>\n",
       "      <th>temperature</th>\n",
       "      <th>pressure</th>\n",
       "      <th>operable</th>\n",
       "    </tr>\n",
       "  </thead>\n",
       "  <tbody>\n",
       "    <tr>\n",
       "      <th>0</th>\n",
       "      <td>5163</td>\n",
       "      <td>2020-06-28 00</td>\n",
       "      <td>2020-06-28 00:48:32</td>\n",
       "      <td>38.0</td>\n",
       "      <td>60.0</td>\n",
       "      <td>1107.0</td>\n",
       "      <td>1</td>\n",
       "    </tr>\n",
       "    <tr>\n",
       "      <th>1</th>\n",
       "      <td>5163</td>\n",
       "      <td>2020-06-28 00</td>\n",
       "      <td>2020-06-28 00:48:37</td>\n",
       "      <td>14.0</td>\n",
       "      <td>43.0</td>\n",
       "      <td>1152.0</td>\n",
       "      <td>1</td>\n",
       "    </tr>\n",
       "    <tr>\n",
       "      <th>2</th>\n",
       "      <td>5163</td>\n",
       "      <td>2020-06-28 00</td>\n",
       "      <td>2020-06-28 00:48:42</td>\n",
       "      <td>64.0</td>\n",
       "      <td>68.0</td>\n",
       "      <td>1028.0</td>\n",
       "      <td>1</td>\n",
       "    </tr>\n",
       "    <tr>\n",
       "      <th>3</th>\n",
       "      <td>5163</td>\n",
       "      <td>2020-06-28 00</td>\n",
       "      <td>2020-06-28 00:48:47</td>\n",
       "      <td>2.0</td>\n",
       "      <td>41.0</td>\n",
       "      <td>1137.0</td>\n",
       "      <td>1</td>\n",
       "    </tr>\n",
       "    <tr>\n",
       "      <th>4</th>\n",
       "      <td>5163</td>\n",
       "      <td>2020-06-28 00</td>\n",
       "      <td>2020-06-28 00:48:52</td>\n",
       "      <td>53.0</td>\n",
       "      <td>41.0</td>\n",
       "      <td>1014.0</td>\n",
       "      <td>1</td>\n",
       "    </tr>\n",
       "    <tr>\n",
       "      <th>...</th>\n",
       "      <td>...</td>\n",
       "      <td>...</td>\n",
       "      <td>...</td>\n",
       "      <td>...</td>\n",
       "      <td>...</td>\n",
       "      <td>...</td>\n",
       "      <td>...</td>\n",
       "    </tr>\n",
       "    <tr>\n",
       "      <th>135</th>\n",
       "      <td>5169</td>\n",
       "      <td>2020-06-28 04</td>\n",
       "      <td>2020-06-28 04:34:16</td>\n",
       "      <td>19.0</td>\n",
       "      <td>78.0</td>\n",
       "      <td>1031.0</td>\n",
       "      <td>0</td>\n",
       "    </tr>\n",
       "    <tr>\n",
       "      <th>136</th>\n",
       "      <td>5169</td>\n",
       "      <td>2020-06-28 04</td>\n",
       "      <td>2020-06-28 04:34:21</td>\n",
       "      <td>70.0</td>\n",
       "      <td>69.0</td>\n",
       "      <td>1174.0</td>\n",
       "      <td>1</td>\n",
       "    </tr>\n",
       "    <tr>\n",
       "      <th>137</th>\n",
       "      <td>5169</td>\n",
       "      <td>2020-06-28 04</td>\n",
       "      <td>2020-06-28 04:34:26</td>\n",
       "      <td>47.0</td>\n",
       "      <td>30.0</td>\n",
       "      <td>914.0</td>\n",
       "      <td>1</td>\n",
       "    </tr>\n",
       "    <tr>\n",
       "      <th>138</th>\n",
       "      <td>5169</td>\n",
       "      <td>2020-06-28 04</td>\n",
       "      <td>2020-06-28 04:34:31</td>\n",
       "      <td>12.0</td>\n",
       "      <td>41.0</td>\n",
       "      <td>966.0</td>\n",
       "      <td>1</td>\n",
       "    </tr>\n",
       "    <tr>\n",
       "      <th>139</th>\n",
       "      <td>5169</td>\n",
       "      <td>2020-06-28 04</td>\n",
       "      <td>2020-06-28 04:34:36</td>\n",
       "      <td>3.0</td>\n",
       "      <td>51.0</td>\n",
       "      <td>994.0</td>\n",
       "      <td>1</td>\n",
       "    </tr>\n",
       "  </tbody>\n",
       "</table>\n",
       "<p>140 rows × 7 columns</p>\n",
       "</div>"
      ],
      "text/plain": [
       "    sensor_id  partition_key           timestamp  wind  temperature  pressure  \\\n",
       "0        5163  2020-06-28 00 2020-06-28 00:48:32  38.0         60.0    1107.0   \n",
       "1        5163  2020-06-28 00 2020-06-28 00:48:37  14.0         43.0    1152.0   \n",
       "2        5163  2020-06-28 00 2020-06-28 00:48:42  64.0         68.0    1028.0   \n",
       "3        5163  2020-06-28 00 2020-06-28 00:48:47   2.0         41.0    1137.0   \n",
       "4        5163  2020-06-28 00 2020-06-28 00:48:52  53.0         41.0    1014.0   \n",
       "..        ...            ...                 ...   ...          ...       ...   \n",
       "135      5169  2020-06-28 04 2020-06-28 04:34:16  19.0         78.0    1031.0   \n",
       "136      5169  2020-06-28 04 2020-06-28 04:34:21  70.0         69.0    1174.0   \n",
       "137      5169  2020-06-28 04 2020-06-28 04:34:26  47.0         30.0     914.0   \n",
       "138      5169  2020-06-28 04 2020-06-28 04:34:31  12.0         41.0     966.0   \n",
       "139      5169  2020-06-28 04 2020-06-28 04:34:36   3.0         51.0     994.0   \n",
       "\n",
       "     operable  \n",
       "0           1  \n",
       "1           1  \n",
       "2           1  \n",
       "3           1  \n",
       "4           1  \n",
       "..        ...  \n",
       "135         0  \n",
       "136         1  \n",
       "137         1  \n",
       "138         1  \n",
       "139         1  \n",
       "\n",
       "[140 rows x 7 columns]"
      ]
     },
     "execution_count": 6,
     "metadata": {},
     "output_type": "execute_result"
    }
   ],
   "source": [
    "df['temperature'] = df['temperature'].astype(float)\n",
    "df['pressure'] = df['pressure'].astype(float)\n",
    "df['wind'] = df['wind'].astype(float)\n",
    "\n",
    "df['operable'] = (df.temperature < 75.0)\n",
    "df['operable'] = df['operable'].astype(int)\n",
    "df"
   ]
  },
  {
   "cell_type": "code",
   "execution_count": 7,
   "metadata": {
    "collapsed": false,
    "jupyter": {
     "outputs_hidden": false
    },
    "pycharm": {
     "name": "#%%\n"
    }
   },
   "outputs": [],
   "source": [
    "x = df[feature_columns]\n",
    "y = df['operable']"
   ]
  },
  {
   "cell_type": "code",
   "execution_count": 8,
   "metadata": {
    "collapsed": false,
    "jupyter": {
     "outputs_hidden": false
    },
    "pycharm": {
     "name": "#%%\n"
    }
   },
   "outputs": [],
   "source": [
    "X_train, X_test, y_train, y_test = train_test_split(x, y, test_size=0.3) # 70% training and 30% test"
   ]
  },
  {
   "cell_type": "code",
   "execution_count": 9,
   "metadata": {
    "collapsed": false,
    "jupyter": {
     "outputs_hidden": false
    },
    "pycharm": {
     "name": "#%%\n"
    }
   },
   "outputs": [
    {
     "data": {
      "text/plain": [
       "RandomForestClassifier()"
      ]
     },
     "execution_count": 9,
     "metadata": {},
     "output_type": "execute_result"
    }
   ],
   "source": [
    "clf=RandomForestClassifier(n_estimators=100)\n",
    "clf.fit(X_train,y_train)"
   ]
  },
  {
   "cell_type": "code",
   "execution_count": 10,
   "metadata": {
    "collapsed": false,
    "jupyter": {
     "outputs_hidden": false
    },
    "pycharm": {
     "name": "#%%\n"
    }
   },
   "outputs": [
    {
     "data": {
      "text/plain": [
       "array([1, 1, 1, 1, 1, 1, 1, 1, 1, 0, 1, 1, 1, 1, 1, 1, 1, 1, 1, 0, 1, 1,\n",
       "       1, 1, 1, 0, 1, 1, 0, 0, 0, 1, 0, 1, 1, 1, 1, 1, 1, 1, 0, 1])"
      ]
     },
     "execution_count": 10,
     "metadata": {},
     "output_type": "execute_result"
    }
   ],
   "source": [
    "y_pred=clf.predict(X_test)\n",
    "y_pred"
   ]
  },
  {
   "cell_type": "code",
   "execution_count": 11,
   "metadata": {
    "collapsed": false,
    "jupyter": {
     "outputs_hidden": false
    },
    "pycharm": {
     "name": "#%%\n"
    }
   },
   "outputs": [
    {
     "name": "stdout",
     "output_type": "stream",
     "text": [
      "Accuracy: 1.0\n"
     ]
    }
   ],
   "source": [
    "print(\"Accuracy:\",metrics.accuracy_score(y_test, y_pred))"
   ]
  },
  {
   "cell_type": "code",
   "execution_count": 12,
   "metadata": {
    "collapsed": false,
    "jupyter": {
     "outputs_hidden": false
    },
    "pycharm": {
     "name": "#%%\n"
    }
   },
   "outputs": [],
   "source": [
    "initial_types = [('input', FloatTensorType([None,len(feature_columns)]))]"
   ]
  },
  {
   "cell_type": "code",
   "execution_count": 15,
   "metadata": {
    "collapsed": false,
    "jupyter": {
     "outputs_hidden": false
    },
    "pycharm": {
     "name": "#%%\n"
    }
   },
   "outputs": [
    {
     "data": {
      "text/plain": [
       "'Model Published'"
      ]
     },
     "execution_count": 15,
     "metadata": {},
     "output_type": "execute_result"
    }
   ],
   "source": [
    "refit.save(clf, ModelFormat.SK_LEARN, initial_types=initial_types)"
   ]
  },
  {
   "cell_type": "code",
   "execution_count": null,
   "metadata": {},
   "outputs": [],
   "source": []
  }
 ],
 "metadata": {
  "kernelspec": {
   "display_name": "Python 3",
   "language": "python",
   "name": "python3"
  },
  "language_info": {
   "codemirror_mode": {
    "name": "ipython",
    "version": 3
   },
   "file_extension": ".py",
   "mimetype": "text/x-python",
   "name": "python",
   "nbconvert_exporter": "python",
   "pygments_lexer": "ipython3",
   "version": "3.8.5"
  }
 },
 "nbformat": 4,
 "nbformat_minor": 4
}
