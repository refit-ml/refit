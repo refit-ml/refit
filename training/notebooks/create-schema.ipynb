{
 "cells": [
  {
   "cell_type": "code",
   "execution_count": 1,
   "metadata": {},
   "outputs": [
    {
     "name": "stdout",
     "output_type": "stream",
     "text": [
      "Requirement already satisfied: pycryptodome==3.9.8 in /opt/conda/lib/python3.8/site-packages (from -r refit/requirements.txt (line 1)) (3.9.8)\n",
      "Requirement already satisfied: numpy==1.18.5 in /opt/conda/lib/python3.8/site-packages (from -r refit/requirements.txt (line 2)) (1.18.5)\n",
      "Requirement already satisfied: pandas==1.1.0 in /opt/conda/lib/python3.8/site-packages (from -r refit/requirements.txt (line 3)) (1.1.0)\n",
      "Collecting seaborn==0.10.1\n",
      "  Using cached seaborn-0.10.1-py3-none-any.whl (215 kB)\n",
      "Requirement already satisfied: matplotlib==3.3.0 in /opt/conda/lib/python3.8/site-packages (from -r refit/requirements.txt (line 5)) (3.3.0)\n",
      "Requirement already satisfied: scipy==1.5.2 in /opt/conda/lib/python3.8/site-packages (from -r refit/requirements.txt (line 6)) (1.5.2)\n",
      "Collecting statsmodels==0.11.1\n",
      "  Using cached statsmodels-0.11.1-cp38-cp38-manylinux1_x86_64.whl (8.7 MB)\n",
      "Processing /home/docker_worker/.cache/pip/wheels/22/0b/40/fd3f795caaa1fb4c6cb738bc1f56100be1e57da95849bfc897/sklearn-0.0-py2.py3-none-any.whl\n",
      "Collecting scikit-learn==0.23.2\n",
      "  Using cached scikit_learn-0.23.2-cp38-cp38-manylinux1_x86_64.whl (6.8 MB)\n",
      "Collecting cassandra-driver==3.24.0\n",
      "  Using cached cassandra_driver-3.24.0-cp38-cp38-manylinux1_x86_64.whl (3.6 MB)\n",
      "Collecting keras2onnx==1.6.0\n",
      "  Using cached keras2onnx-1.6.0-py3-none-any.whl (219 kB)\n",
      "Collecting Keras==2.2.5\n",
      "  Using cached Keras-2.2.5-py2.py3-none-any.whl (336 kB)\n",
      "Collecting protobuf==3.8.0\n",
      "  Using cached protobuf-3.8.0-py2.py3-none-any.whl (427 kB)\n",
      "Collecting onnxmltools==1.6.0\n",
      "  Using cached onnxmltools-1.6.0-py2.py3-none-any.whl (287 kB)\n",
      "Processing /home/docker_worker/.cache/pip/wheels/13/90/db/290ab3a34f2ef0b5a0f89235dc2d40fea83e77de84ed2dc05c/PyYAML-5.3.1-cp38-cp38-linux_x86_64.whl\n",
      "Collecting minio==6.0.0\n",
      "  Using cached minio-6.0.0-py2.py3-none-any.whl (72 kB)\n",
      "Requirement already satisfied: python-dateutil>=2.7.3 in /opt/conda/lib/python3.8/site-packages (from pandas==1.1.0->-r refit/requirements.txt (line 3)) (2.8.1)\n",
      "Requirement already satisfied: pytz>=2017.2 in /opt/conda/lib/python3.8/site-packages (from pandas==1.1.0->-r refit/requirements.txt (line 3)) (2020.1)\n",
      "Requirement already satisfied: kiwisolver>=1.0.1 in /opt/conda/lib/python3.8/site-packages (from matplotlib==3.3.0->-r refit/requirements.txt (line 5)) (1.3.0)\n",
      "Requirement already satisfied: cycler>=0.10 in /opt/conda/lib/python3.8/site-packages (from matplotlib==3.3.0->-r refit/requirements.txt (line 5)) (0.10.0)\n",
      "Requirement already satisfied: pyparsing!=2.0.4,!=2.1.2,!=2.1.6,>=2.0.3 in /opt/conda/lib/python3.8/site-packages (from matplotlib==3.3.0->-r refit/requirements.txt (line 5)) (2.4.7)\n",
      "Requirement already satisfied: pillow>=6.2.0 in /opt/conda/lib/python3.8/site-packages (from matplotlib==3.3.0->-r refit/requirements.txt (line 5)) (8.0.1)\n",
      "Requirement already satisfied: patsy>=0.5 in /opt/conda/lib/python3.8/site-packages (from statsmodels==0.11.1->-r refit/requirements.txt (line 7)) (0.5.1)\n",
      "Collecting joblib>=0.11\n",
      "  Using cached joblib-0.17.0-py3-none-any.whl (301 kB)\n",
      "Collecting threadpoolctl>=2.0.0\n",
      "  Using cached threadpoolctl-2.1.0-py3-none-any.whl (12 kB)\n",
      "Requirement already satisfied: six>=1.9 in /opt/conda/lib/python3.8/site-packages (from cassandra-driver==3.24.0->-r refit/requirements.txt (line 10)) (1.15.0)\n",
      "Collecting geomet<0.3,>=0.1\n",
      "  Using cached geomet-0.2.1.post1-py3-none-any.whl (18 kB)\n",
      "Collecting onnx\n",
      "  Using cached onnx-1.7.0-cp38-cp38-manylinux1_x86_64.whl (7.4 MB)\n",
      "Processing /home/docker_worker/.cache/pip/wheels/35/a0/e2/7c4d0cd36f74f5ca64306f2553b3438af7d158e359a17e8382/fire-0.3.1-py2.py3-none-any.whl\n",
      "Requirement already satisfied: requests in /opt/conda/lib/python3.8/site-packages (from keras2onnx==1.6.0->-r refit/requirements.txt (line 11)) (2.24.0)\n",
      "Collecting onnxconverter-common>=1.6.0\n",
      "  Using cached onnxconverter_common-1.7.0-py2.py3-none-any.whl (64 kB)\n",
      "Collecting keras-applications>=1.0.8\n",
      "  Using cached Keras_Applications-1.0.8-py3-none-any.whl (50 kB)\n",
      "Collecting h5py\n",
      "  Using cached h5py-3.0.0-cp38-cp38-manylinux1_x86_64.whl (4.4 MB)\n",
      "Collecting keras-preprocessing>=1.1.0\n",
      "  Using cached Keras_Preprocessing-1.1.2-py2.py3-none-any.whl (42 kB)\n",
      "Requirement already satisfied: setuptools in /opt/conda/lib/python3.8/site-packages (from protobuf==3.8.0->-r refit/requirements.txt (line 13)) (49.6.0.post20201009)\n",
      "Collecting skl2onnx\n",
      "  Using cached skl2onnx-1.7.0-py2.py3-none-any.whl (191 kB)\n",
      "Requirement already satisfied: urllib3 in /opt/conda/lib/python3.8/site-packages (from minio==6.0.0->-r refit/requirements.txt (line 16)) (1.25.10)\n",
      "Requirement already satisfied: certifi in /opt/conda/lib/python3.8/site-packages (from minio==6.0.0->-r refit/requirements.txt (line 16)) (2020.6.20)\n",
      "Collecting configparser\n",
      "  Using cached configparser-5.0.1-py3-none-any.whl (22 kB)\n",
      "Collecting click\n",
      "  Using cached click-7.1.2-py2.py3-none-any.whl (82 kB)\n",
      "Collecting typing-extensions>=3.6.2.1\n",
      "  Using cached typing_extensions-3.7.4.3-py3-none-any.whl (22 kB)\n",
      "Processing /home/docker_worker/.cache/pip/wheels/a0/16/9c/5473df82468f958445479c59e784896fa24f4a5fc024b0f501/termcolor-1.1.0-py3-none-any.whl\n",
      "Requirement already satisfied: chardet<4,>=3.0.2 in /opt/conda/lib/python3.8/site-packages (from requests->keras2onnx==1.6.0->-r refit/requirements.txt (line 11)) (3.0.4)\n",
      "Requirement already satisfied: idna<3,>=2.5 in /opt/conda/lib/python3.8/site-packages (from requests->keras2onnx==1.6.0->-r refit/requirements.txt (line 11)) (2.10)\n",
      "Collecting cached-property\n",
      "  Using cached cached_property-1.5.2-py2.py3-none-any.whl (7.6 kB)\n",
      "Installing collected packages: seaborn, statsmodels, joblib, threadpoolctl, scikit-learn, sklearn, click, geomet, cassandra-driver, protobuf, typing-extensions, onnx, termcolor, fire, onnxconverter-common, keras2onnx, cached-property, h5py, keras-applications, pyyaml, keras-preprocessing, Keras, skl2onnx, onnxmltools, configparser, minio\n",
      "Successfully installed Keras-2.2.5 cached-property-1.5.2 cassandra-driver-3.24.0 click-7.1.2 configparser-5.0.1 fire-0.3.1 geomet-0.2.1.post1 h5py-3.0.0 joblib-0.17.0 keras-applications-1.0.8 keras-preprocessing-1.1.2 keras2onnx-1.6.0 minio-6.0.0 onnx-1.7.0 onnxconverter-common-1.7.0 onnxmltools-1.6.0 protobuf-3.8.0 pyyaml-5.3.1 scikit-learn-0.23.2 seaborn-0.10.1 skl2onnx-1.7.0 sklearn-0.0 statsmodels-0.11.1 termcolor-1.1.0 threadpoolctl-2.1.0 typing-extensions-3.7.4.3\n",
      "Refit Installed, You can now run the following to import REFIT\n",
      "from refit.api.refit import Refit\n"
     ]
    }
   ],
   "source": [
    "!refit_init"
   ]
  },
  {
   "cell_type": "code",
   "execution_count": 2,
   "metadata": {},
   "outputs": [],
   "source": [
    "from refit.api.refit import Refit, create_project"
   ]
  },
  {
   "cell_type": "code",
   "execution_count": 3,
   "metadata": {},
   "outputs": [
    {
     "data": {
      "text/plain": [
       "'{\"requestSuccessful\":true}'"
      ]
     },
     "execution_count": 3,
     "metadata": {},
     "output_type": "execute_result"
    }
   ],
   "source": [
    "create_project(\"../data/demo.yaml\")"
   ]
  },
  {
   "cell_type": "code",
   "execution_count": null,
   "metadata": {},
   "outputs": [],
   "source": []
  },
  {
   "cell_type": "code",
   "execution_count": null,
   "metadata": {},
   "outputs": [],
   "source": []
  }
 ],
 "metadata": {
  "kernelspec": {
   "display_name": "Python 3",
   "language": "python",
   "name": "python3"
  },
  "language_info": {
   "codemirror_mode": {
    "name": "ipython",
    "version": 3
   },
   "file_extension": ".py",
   "mimetype": "text/x-python",
   "name": "python",
   "nbconvert_exporter": "python",
   "pygments_lexer": "ipython3",
   "version": "3.8.6"
  }
 },
 "nbformat": 4,
 "nbformat_minor": 4
}
