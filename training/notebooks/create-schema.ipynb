{
 "cells": [
  {
   "cell_type": "code",
   "execution_count": 1,
   "metadata": {},
   "outputs": [
    {
     "name": "stdout",
     "output_type": "stream",
     "text": [
      "\u001b[31mERROR: apache-beam 2.19.0 has requirement fastavro<0.22,>=0.21.4, but you'll have fastavro 1.2.3 which is incompatible.\u001b[0m\n",
      "\u001b[31mERROR: apache-beam 2.19.0 has requirement pyarrow<0.16.0,>=0.15.1; python_version >= \"3.0\" or platform_system != \"Windows\", but you'll have pyarrow 2.0.0 which is incompatible.\u001b[0m\n",
      "\u001b[31mERROR: apache-flink 1.11.2 has requirement pyarrow<0.16.0,>=0.15.1, but you'll have pyarrow 2.0.0 which is incompatible.\u001b[0m\n",
      "\u001b[31mERROR: apache-flink 1.11.2 has requirement python-dateutil==2.8.0, but you'll have python-dateutil 2.8.1 which is incompatible.\u001b[0m\n",
      "Refit Installed, You can now run the following to import REFIT\n",
      "from refit import Refit\n"
     ]
    }
   ],
   "source": [
    "!refit_init"
   ]
  },
  {
   "cell_type": "code",
   "execution_count": 2,
   "metadata": {},
   "outputs": [],
   "source": [
    "from refit import Refit, create_project, submit_job\n",
    "from feature_extractor import FeatureExtractor"
   ]
  },
  {
   "cell_type": "code",
   "execution_count": 3,
   "metadata": {},
   "outputs": [
    {
     "data": {
      "text/plain": [
       "{'path': 'schemas/3529c62e-852b-444a-9d6e-afec433196c3/schema.yaml'}"
      ]
     },
     "execution_count": 3,
     "metadata": {},
     "output_type": "execute_result"
    }
   ],
   "source": [
    "create_project(\"../data/demo.yaml\")"
   ]
  },
  {
   "cell_type": "code",
   "execution_count": 4,
   "metadata": {},
   "outputs": [
    {
     "name": "stdout",
     "output_type": "stream",
     "text": [
      "Starting python job\n"
     ]
    }
   ],
   "source": [
    "submit_job(feature_extractor = FeatureExtractor())"
   ]
  },
  {
   "cell_type": "code",
   "execution_count": null,
   "metadata": {},
   "outputs": [],
   "source": []
  }
 ],
 "metadata": {
  "kernelspec": {
   "display_name": "Python 3",
   "language": "python",
   "name": "python3"
  },
  "language_info": {
   "codemirror_mode": {
    "name": "ipython",
    "version": 3
   },
   "file_extension": ".py",
   "mimetype": "text/x-python",
   "name": "python",
   "nbconvert_exporter": "python",
   "pygments_lexer": "ipython3",
   "version": "3.7.6"
  }
 },
 "nbformat": 4,
 "nbformat_minor": 4
}
