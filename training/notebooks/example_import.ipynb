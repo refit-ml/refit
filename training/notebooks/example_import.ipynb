{
 "cells": [
  {
   "cell_type": "code",
   "execution_count": 1,
   "metadata": {},
   "outputs": [
    {
     "name": "stdout",
     "output_type": "stream",
     "text": [
      "\u001B[31mERROR: Could not find a version that satisfies the requirement refit~=1.0.0 (from -r refit/requirements.txt (line 23)) (from versions: 0.0.1, 0.0.2, 0.2.0, 0.2.1, 0.3.0)\u001B[0m\n",
      "\u001B[31mERROR: No matching distribution found for refit~=1.0.0 (from -r refit/requirements.txt (line 23))\u001B[0m\n",
      "Refit Installed, You can now run the following to import REFIT\n",
      "from refit.api.refit import Refit\n"
     ]
    }
   ],
   "source": [
    "!refit_init"
   ]
  },
  {
   "cell_type": "code",
   "execution_count": 1,
   "metadata": {
    "scrolled": true
   },
   "outputs": [],
   "source": [
    "from refit import Refit\n",
    "import pandas as pd"
   ]
  },
  {
   "cell_type": "code",
   "execution_count": 2,
   "metadata": {
    "pycharm": {
     "name": "#%%\n"
    }
   },
   "outputs": [],
   "source": [
    "project_guid = \"b6ee5bab-08dd-49b0-98b6-45cd0a28b12f\"\n",
    "refit = Refit(project_guid)\n",
    "\n",
    "sensor_data_path = \"../data/demo.csv\"\n",
    "training_window_path = \"../data/demo-training-window.csv\"\n",
    "\n",
    "sensor_data = pd.read_csv(sensor_data_path)\n",
    "training_window_minio_path = \"notebook-imports/demo/training-window-import.csv\""
   ]
  },
  {
   "cell_type": "code",
   "execution_count": 3,
   "metadata": {
    "pycharm": {
     "name": "#%%\n"
    }
   },
   "outputs": [
    {
     "data": {
      "text/plain": [
       "'{\"filePath\":\"import/b6ee5bab-08dd-49b0-98b6-45cd0a28b12f/notebook-imports/demo/training-window-import.csv\",\"importType\":\"training_window\",\"deleteWhenComplete\":true}'"
      ]
     },
     "execution_count": 3,
     "metadata": {},
     "output_type": "execute_result"
    }
   ],
   "source": [
    "refit.import_training_window(training_window_path, training_window_minio_path)"
   ]
  },
  {
   "cell_type": "code",
   "execution_count": 4,
   "metadata": {},
   "outputs": [
    {
     "data": {
      "text/plain": [
       "'{\"filePath\":\"import/b6ee5bab-08dd-49b0-98b6-45cd0a28b12f/notebook-imports/demo/import.csv\",\"importType\":\"sensor_data\",\"deleteWhenComplete\":true}'"
      ]
     },
     "execution_count": 4,
     "metadata": {},
     "output_type": "execute_result"
    }
   ],
   "source": [
    "refit.import_data(sensor_data)"
   ]
  },
  {
   "cell_type": "code",
   "execution_count": null,
   "metadata": {},
   "outputs": [],
   "source": []
  }
 ],
 "metadata": {
  "kernelspec": {
   "display_name": "Python 3",
   "language": "python",
   "name": "python3"
  },
  "language_info": {
   "codemirror_mode": {
    "name": "ipython",
    "version": 3
   },
   "file_extension": ".py",
   "mimetype": "text/x-python",
   "name": "python",
   "nbconvert_exporter": "python",
   "pygments_lexer": "ipython3",
   "version": "3.7.6"
  }
 },
 "nbformat": 4,
 "nbformat_minor": 4
}